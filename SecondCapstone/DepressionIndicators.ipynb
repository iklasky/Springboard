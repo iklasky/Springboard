{
 "cells": [
  {
   "cell_type": "code",
   "execution_count": 1,
   "metadata": {},
   "outputs": [],
   "source": [
    "import numpy as np\n",
    "import pandas as pd\n",
    "import matplotlib.pyplot as plt\n",
    "import seaborn as sns"
   ]
  },
  {
   "cell_type": "code",
   "execution_count": 2,
   "metadata": {},
   "outputs": [
    {
     "data": {
      "text/html": [
       "<div>\n",
       "<style scoped>\n",
       "    .dataframe tbody tr th:only-of-type {\n",
       "        vertical-align: middle;\n",
       "    }\n",
       "\n",
       "    .dataframe tbody tr th {\n",
       "        vertical-align: top;\n",
       "    }\n",
       "\n",
       "    .dataframe thead th {\n",
       "        text-align: right;\n",
       "    }\n",
       "</style>\n",
       "<table border=\"1\" class=\"dataframe\">\n",
       "  <thead>\n",
       "    <tr style=\"text-align: right;\">\n",
       "      <th></th>\n",
       "      <th>SEQN</th>\n",
       "      <th>SDDSRVYR</th>\n",
       "      <th>RIDSTATR</th>\n",
       "      <th>RIAGENDR</th>\n",
       "      <th>RIDAGEYR</th>\n",
       "      <th>RIDAGEMN</th>\n",
       "      <th>RIDRETH1</th>\n",
       "      <th>RIDRETH3</th>\n",
       "      <th>RIDEXMON</th>\n",
       "      <th>RIDEXAGM</th>\n",
       "      <th>...</th>\n",
       "      <th>WHD080U</th>\n",
       "      <th>WHD080L</th>\n",
       "      <th>WHD110</th>\n",
       "      <th>WHD120</th>\n",
       "      <th>WHD130</th>\n",
       "      <th>WHD140</th>\n",
       "      <th>WHQ150</th>\n",
       "      <th>WHQ030M</th>\n",
       "      <th>WHQ500</th>\n",
       "      <th>WHQ520</th>\n",
       "    </tr>\n",
       "  </thead>\n",
       "  <tbody>\n",
       "    <tr>\n",
       "      <th>0</th>\n",
       "      <td>73557</td>\n",
       "      <td>8</td>\n",
       "      <td>2</td>\n",
       "      <td>1</td>\n",
       "      <td>69</td>\n",
       "      <td>NaN</td>\n",
       "      <td>4</td>\n",
       "      <td>4</td>\n",
       "      <td>1.0</td>\n",
       "      <td>NaN</td>\n",
       "      <td>...</td>\n",
       "      <td>NaN</td>\n",
       "      <td>40.0</td>\n",
       "      <td>270.0</td>\n",
       "      <td>200.0</td>\n",
       "      <td>69.0</td>\n",
       "      <td>270.0</td>\n",
       "      <td>62.0</td>\n",
       "      <td>NaN</td>\n",
       "      <td>NaN</td>\n",
       "      <td>NaN</td>\n",
       "    </tr>\n",
       "    <tr>\n",
       "      <th>1</th>\n",
       "      <td>73558</td>\n",
       "      <td>8</td>\n",
       "      <td>2</td>\n",
       "      <td>1</td>\n",
       "      <td>54</td>\n",
       "      <td>NaN</td>\n",
       "      <td>3</td>\n",
       "      <td>3</td>\n",
       "      <td>1.0</td>\n",
       "      <td>NaN</td>\n",
       "      <td>...</td>\n",
       "      <td>NaN</td>\n",
       "      <td>NaN</td>\n",
       "      <td>240.0</td>\n",
       "      <td>250.0</td>\n",
       "      <td>72.0</td>\n",
       "      <td>250.0</td>\n",
       "      <td>25.0</td>\n",
       "      <td>NaN</td>\n",
       "      <td>NaN</td>\n",
       "      <td>NaN</td>\n",
       "    </tr>\n",
       "    <tr>\n",
       "      <th>2</th>\n",
       "      <td>73559</td>\n",
       "      <td>8</td>\n",
       "      <td>2</td>\n",
       "      <td>1</td>\n",
       "      <td>72</td>\n",
       "      <td>NaN</td>\n",
       "      <td>3</td>\n",
       "      <td>3</td>\n",
       "      <td>2.0</td>\n",
       "      <td>NaN</td>\n",
       "      <td>...</td>\n",
       "      <td>NaN</td>\n",
       "      <td>NaN</td>\n",
       "      <td>180.0</td>\n",
       "      <td>190.0</td>\n",
       "      <td>70.0</td>\n",
       "      <td>228.0</td>\n",
       "      <td>35.0</td>\n",
       "      <td>NaN</td>\n",
       "      <td>NaN</td>\n",
       "      <td>NaN</td>\n",
       "    </tr>\n",
       "    <tr>\n",
       "      <th>3</th>\n",
       "      <td>73560</td>\n",
       "      <td>8</td>\n",
       "      <td>2</td>\n",
       "      <td>1</td>\n",
       "      <td>9</td>\n",
       "      <td>NaN</td>\n",
       "      <td>3</td>\n",
       "      <td>3</td>\n",
       "      <td>1.0</td>\n",
       "      <td>119.0</td>\n",
       "      <td>...</td>\n",
       "      <td>NaN</td>\n",
       "      <td>NaN</td>\n",
       "      <td>NaN</td>\n",
       "      <td>NaN</td>\n",
       "      <td>NaN</td>\n",
       "      <td>NaN</td>\n",
       "      <td>NaN</td>\n",
       "      <td>3.0</td>\n",
       "      <td>3.0</td>\n",
       "      <td>3.0</td>\n",
       "    </tr>\n",
       "    <tr>\n",
       "      <th>4</th>\n",
       "      <td>73561</td>\n",
       "      <td>8</td>\n",
       "      <td>2</td>\n",
       "      <td>2</td>\n",
       "      <td>73</td>\n",
       "      <td>NaN</td>\n",
       "      <td>3</td>\n",
       "      <td>3</td>\n",
       "      <td>1.0</td>\n",
       "      <td>NaN</td>\n",
       "      <td>...</td>\n",
       "      <td>NaN</td>\n",
       "      <td>NaN</td>\n",
       "      <td>150.0</td>\n",
       "      <td>135.0</td>\n",
       "      <td>67.0</td>\n",
       "      <td>170.0</td>\n",
       "      <td>60.0</td>\n",
       "      <td>NaN</td>\n",
       "      <td>NaN</td>\n",
       "      <td>NaN</td>\n",
       "    </tr>\n",
       "  </tbody>\n",
       "</table>\n",
       "<p>5 rows × 1000 columns</p>\n",
       "</div>"
      ],
      "text/plain": [
       "    SEQN  SDDSRVYR  RIDSTATR  RIAGENDR  RIDAGEYR  RIDAGEMN  RIDRETH1  \\\n",
       "0  73557         8         2         1        69       NaN         4   \n",
       "1  73558         8         2         1        54       NaN         3   \n",
       "2  73559         8         2         1        72       NaN         3   \n",
       "3  73560         8         2         1         9       NaN         3   \n",
       "4  73561         8         2         2        73       NaN         3   \n",
       "\n",
       "   RIDRETH3  RIDEXMON  RIDEXAGM  ...  WHD080U  WHD080L  WHD110  WHD120  \\\n",
       "0         4       1.0       NaN  ...      NaN     40.0   270.0   200.0   \n",
       "1         3       1.0       NaN  ...      NaN      NaN   240.0   250.0   \n",
       "2         3       2.0       NaN  ...      NaN      NaN   180.0   190.0   \n",
       "3         3       1.0     119.0  ...      NaN      NaN     NaN     NaN   \n",
       "4         3       1.0       NaN  ...      NaN      NaN   150.0   135.0   \n",
       "\n",
       "   WHD130  WHD140  WHQ150  WHQ030M  WHQ500  WHQ520  \n",
       "0    69.0   270.0    62.0      NaN     NaN     NaN  \n",
       "1    72.0   250.0    25.0      NaN     NaN     NaN  \n",
       "2    70.0   228.0    35.0      NaN     NaN     NaN  \n",
       "3     NaN     NaN     NaN      3.0     3.0     3.0  \n",
       "4    67.0   170.0    60.0      NaN     NaN     NaN  \n",
       "\n",
       "[5 rows x 1000 columns]"
      ]
     },
     "execution_count": 2,
     "metadata": {},
     "output_type": "execute_result"
    }
   ],
   "source": [
    "df1 = pd.read_csv('data/demographic.csv')\n",
    "df2 = pd.read_csv('data/questionnaire.csv')\n",
    "\n",
    "df = pd.concat([df1, df2], axis=1, join='inner')\n",
    "\n",
    "df.head()"
   ]
  },
  {
   "cell_type": "code",
   "execution_count": 3,
   "metadata": {},
   "outputs": [
    {
     "data": {
      "image/png": "[encoded data removed]",
      "text/plain": [
       "<Figure size 432x288 with 1 Axes>"
      ]
     },
     "metadata": {
      "needs_background": "light"
     },
     "output_type": "display_data"
    }
   ],
   "source": [
    "nas=pd.DataFrame(df.isnull().sum().sort_values(ascending=False)/len(df),columns = ['percent missing'])\n",
    "pos = nas['percent missing'] > 0\n",
    "nas[pos]\n",
    "nas.hist(bins = 20)\n",
    "acceptable_feats = nas.loc[nas['percent missing'] < 0.2]\n",
    "list_acceptable_feats = list(acceptable_feats.index)"
   ]
  },
  {
   "cell_type": "code",
   "execution_count": 4,
   "metadata": {},
   "outputs": [
    {
     "name": "stdout",
     "output_type": "stream",
     "text": [
      "Shape of DataFrame with all data:  (10175, 1000)\n",
      "Shape of DataFrame with only 20 year olds and older:  (6113, 1000)\n"
     ]
    }
   ],
   "source": [
    "print('Shape of DataFrame with all data: ', df.shape)\n",
    "df = df.loc[(df.RIDAGEYR >= 18)]\n",
    "print('Shape of DataFrame with only 20 year olds and older: ', df.shape)"
   ]
  },
  {
   "cell_type": "code",
   "execution_count": 5,
   "metadata": {},
   "outputs": [
    {
     "data": {
      "image/png": "[encoded data removed]",
      "text/plain": [
       "<Figure size 432x288 with 1 Axes>"
      ]
     },
     "metadata": {
      "needs_background": "light"
     },
     "output_type": "display_data"
    }
   ],
   "source": [
    "nas=pd.DataFrame(df.isnull().sum().sort_values(ascending=False)/len(df),columns = ['percent missing'])\n",
    "pos = nas['percent missing'] > 0\n",
    "nas[pos]\n",
    "nas.hist(bins = 20)\n",
    "acceptable_feats = nas.loc[nas['percent missing'] < 0.2]\n",
    "list_acceptable_feats = list(acceptable_feats.index)"
   ]
  },
  {
   "cell_type": "code",
   "execution_count": 6,
   "metadata": {},
   "outputs": [
    {
     "name": "stdout",
     "output_type": "stream",
     "text": [
      "DPQ020    1.000000\n",
      "DPQ060    0.555014\n",
      "DPQ010    0.501361\n",
      "DPQ070    0.450393\n",
      "DPQ040    0.439801\n",
      "DPQ050    0.393860\n",
      "DPQ080    0.370429\n",
      "DPQ030    0.362785\n",
      "DPQ090    0.321758\n",
      "DLQ040    0.277462\n",
      "PFQ049    0.269184\n",
      "HSD010    0.265207\n",
      "HUQ010    0.262061\n",
      "DLQ050    0.233651\n",
      "PFQ057    0.230385\n",
      "PFQ051    0.220686\n",
      "DLQ080    0.214893\n",
      "SLQ050    0.213349\n",
      "PFQ054    0.179000\n",
      "DLQ060    0.177252\n",
      "Name: DPQ020, dtype: float64\n"
     ]
    }
   ],
   "source": [
    "c = df[list_acceptable_feats].corr().abs()\n",
    "dc = c['DPQ020'].dropna().sort_values(kind=\"quicksort\", ascending=False)\n",
    "\n",
    "#with pd.option_context('display.max_rows', None, 'display.max_columns', None):  # more options can be specified also\n",
    "print(dc.head(20))\n",
    "c = df.corr().abs()\n",
    "#plt.figure(figsize=(300, 300))\n",
    "#sns.heatmap(c, xticklabels=c.columns, yticklabels=c.columns, linewidths=.5)"
   ]
  },
  {
   "cell_type": "code",
   "execution_count": 7,
   "metadata": {},
   "outputs": [],
   "source": [
    "df = df[list_acceptable_feats]\n",
    "df = df[df.DPQ020.notna()]"
   ]
  },
  {
   "cell_type": "code",
   "execution_count": 8,
   "metadata": {},
   "outputs": [
    {
     "data": {
      "text/plain": [
       "<matplotlib.axes._subplots.AxesSubplot at 0x129495280>"
      ]
     },
     "execution_count": 8,
     "metadata": {},
     "output_type": "execute_result"
    },
    {
     "data": {
      "image/png": "[encoded data removed]",
      "text/plain": [
       "<Figure size 432x288 with 1 Axes>"
      ]
     },
     "metadata": {
      "needs_background": "light"
     },
     "output_type": "display_data"
    }
   ],
   "source": [
    "df.DPQ020.hist()"
   ]
  },
  {
   "cell_type": "code",
   "execution_count": 9,
   "metadata": {},
   "outputs": [],
   "source": [
    "df = df[df.DPQ020 < 7]"
   ]
  },
  {
   "cell_type": "code",
   "execution_count": 10,
   "metadata": {},
   "outputs": [
    {
     "data": {
      "text/plain": [
       "<matplotlib.axes._subplots.AxesSubplot at 0x10d79fb20>"
      ]
     },
     "execution_count": 10,
     "metadata": {},
     "output_type": "execute_result"
    },
    {
     "data": {
      "image/png": "[encoded data removed]",
      "text/plain": [
       "<Figure size 432x288 with 1 Axes>"
      ]
     },
     "metadata": {
      "needs_background": "light"
     },
     "output_type": "display_data"
    }
   ],
   "source": [
    "df.DPQ020.hist()"
   ]
  },
  {
   "cell_type": "code",
   "execution_count": 11,
   "metadata": {},
   "outputs": [],
   "source": [
    "df.loc[(df.DPQ020 > 1)]=1"
   ]
  },
  {
   "cell_type": "code",
   "execution_count": 12,
   "metadata": {},
   "outputs": [
    {
     "data": {
      "text/plain": [
       "<matplotlib.axes._subplots.AxesSubplot at 0x129883be0>"
      ]
     },
     "execution_count": 12,
     "metadata": {},
     "output_type": "execute_result"
    },
    {
     "data": {
      "image/png": "[encoded data removed]",
      "text/plain": [
       "<Figure size 432x288 with 1 Axes>"
      ]
     },
     "metadata": {
      "needs_background": "light"
     },
     "output_type": "display_data"
    }
   ],
   "source": [
    "df.DPQ020.hist()"
   ]
  },
  {
   "cell_type": "code",
   "execution_count": 13,
   "metadata": {},
   "outputs": [
    {
     "name": "stdout",
     "output_type": "stream",
     "text": [
      "Before imputation:  19997 missing\n",
      "After imputation:  0 missing\n",
      "runtime:  14.69852900505066\n"
     ]
    }
   ],
   "source": [
    "from sklearn.impute import KNNImputer\n",
    "import time\n",
    "\n",
    "tic = time.time()\n",
    "\n",
    "col_names = list(df.columns)\n",
    "\n",
    "print('Before imputation: ', df.isnull().sum().sum(), 'missing')\n",
    "\n",
    "#fill na's with medians\n",
    "#for col in df.columns:\n",
    "#    df[col] = df[col].fillna((df[col].median()))\n",
    "    \n",
    "#fill na's using KNN\n",
    "imputer = KNNImputer(n_neighbors=3)\n",
    "df = pd.DataFrame(imputer.fit_transform(df))\n",
    "      \n",
    "print('After imputation: ', df.isnull().sum().sum(), 'missing')\n",
    "\n",
    "df.columns = col_names\n",
    "\n",
    "toc = time.time()\n",
    "print('runtime: ',toc-tic)"
   ]
  },
  {
   "cell_type": "code",
   "execution_count": 14,
   "metadata": {},
   "outputs": [
    {
     "name": "stdout",
     "output_type": "stream",
     "text": [
      "Shape of DataFrame before dropping unwanted features:  (5390, 209)\n",
      "Shape of DataFrame after dropping unwanted features:  (5390, 188)\n",
      "DPQ020      1.000000\n",
      "SMQ863      0.499702\n",
      "MCQ160G     0.484342\n",
      "DLQ060      0.456981\n",
      "DLQ040      0.448717\n",
      "SMQ851      0.446463\n",
      "MCQ086      0.430422\n",
      "FIAINTRP    0.426740\n",
      "MCQ082      0.422434\n",
      "PFQ057      0.421669\n",
      "MCQ203      0.417846\n",
      "MCQ160O     0.417612\n",
      "SIAINTRP    0.415959\n",
      "FSD032C     0.414022\n",
      "DLQ080      0.411012\n",
      "DLQ020      0.409020\n",
      "DLQ050      0.408845\n",
      "DIQ050      0.408181\n",
      "PFQ049      0.405292\n",
      "FSD032B     0.401615\n",
      "MIAINTRP    0.399386\n",
      "PFQ054      0.396311\n",
      "PFQ090      0.389860\n",
      "MCQ053      0.386878\n",
      "HUQ090      0.386393\n",
      "MCQ160B     0.386216\n",
      "HSQ510      0.384629\n",
      "DLQ010      0.383452\n",
      "FSD151      0.383230\n",
      "MCQ160F     0.381026\n",
      "MCQ160D     0.372880\n",
      "MCQ160E     0.372790\n",
      "FSD032A     0.371892\n",
      "MCQ070      0.367260\n",
      "DIQ160      0.366038\n",
      "MCQ160N     0.365160\n",
      "MCQ160K     0.364407\n",
      "SLQ050      0.359479\n",
      "MCQ220      0.354110\n",
      "INQ132      0.351400\n",
      "OHQ770      0.342695\n",
      "HSQ571      0.339875\n",
      "HUQ071      0.338515\n",
      "PFQ051      0.335093\n",
      "MCQ160L     0.330850\n",
      "HSQ520      0.323353\n",
      "DMDHRAGE    0.322372\n",
      "INQ090      0.322106\n",
      "SMQ872      0.320438\n",
      "BPQ059      0.319259\n",
      "INQ060      0.319202\n",
      "SLD010H     0.312718\n",
      "SMQ866      0.311326\n",
      "DMQMILIZ    0.309991\n",
      "SLQ060      0.307512\n",
      "SMQ681      0.300956\n",
      "DMDEDUC2    0.298049\n",
      "DIQ010      0.297772\n",
      "MCQ010      0.295632\n",
      "INQ150      0.294422\n",
      "HSQ500      0.293480\n",
      "SMDANY      0.286641\n",
      "DMDHREDU    0.284558\n",
      "DIQ170      0.284215\n",
      "RIDAGEYR    0.280819\n",
      "MCQ160M     0.280101\n",
      "WHQ040      0.278405\n",
      "MCQ160C     0.278280\n",
      "FSQ165      0.270972\n",
      "INQ080      0.266759\n",
      "RIDRETH1    0.264034\n",
      "HUQ020      0.261600\n",
      "HEQ030      0.260712\n",
      "MCQ160A     0.259144\n",
      "HEQ010      0.258336\n",
      "INQ012      0.256447\n",
      "PUQ100      0.255505\n",
      "PAQ605      0.254158\n",
      "CBQ596      0.249814\n",
      "MCQ365A     0.244282\n",
      "MCQ365D     0.244154\n",
      "MCQ365C     0.243024\n",
      "MCQ365B     0.242719\n",
      "RIDRETH3    0.233445\n",
      "MCQ080      0.226115\n",
      "PAQ635      0.214398\n",
      "BPQ056      0.214231\n",
      "SMQ020      0.212094\n",
      "INDFMPIR    0.210603\n",
      "BPQ020      0.208410\n",
      "INDFMMPI    0.207455\n",
      "DMDHHSIZ    0.200999\n",
      "PAQ620      0.198684\n",
      "INQ030      0.198069\n",
      "MCQ092      0.192389\n",
      "WTINT2YR    0.192183\n",
      "WTMEC2YR    0.191660\n",
      "DMDFMSIZ    0.191318\n",
      "INDFMMPC    0.187942\n",
      "WHQ070      0.180992\n",
      "WHQ030      0.179400\n",
      "INQ140      0.175031\n",
      "BPQ080      0.172395\n",
      "PAQ650      0.171466\n",
      "SMQ874      0.168468\n",
      "CBQ545      0.167257\n",
      "CBQ590      0.167029\n",
      "DBQ700      0.163948\n",
      "DMDHHSZA    0.154914\n",
      "DIQ172      0.150065\n",
      "MCQ300A     0.146226\n",
      "DBQ229      0.143110\n",
      "SDMVPSU     0.142217\n",
      "MCQ370C     0.140105\n",
      "INDHHIN2    0.137515\n",
      "MCQ300B     0.134136\n",
      "OHQ845      0.133522\n",
      "PUQ110      0.132588\n",
      "INDFMIN2    0.129968\n",
      "RIDEXMON    0.129187\n",
      "OCD390G     0.119215\n",
      "CBQ535      0.118868\n",
      "SMQ878      0.115871\n",
      "CBQ580      0.115688\n",
      "MCQ370D     0.115337\n",
      "HUQ041      0.114095\n",
      "HSQ590      0.112227\n",
      "MCQ300C     0.107816\n",
      "PAQ665      0.104624\n",
      "DBQ197      0.104615\n",
      "HSD010      0.103679\n",
      "IMQ011      0.103667\n",
      "IMQ020      0.101567\n",
      "MCQ370B     0.099232\n",
      "PAD680      0.098127\n",
      "MCQ370A     0.094602\n",
      "IND235      0.093234\n",
      "ALQ101      0.092962\n",
      "CBQ552      0.088186\n",
      "PAQ710      0.084693\n",
      "DMDHRGND    0.076721\n",
      "HUQ030      0.071474\n",
      "SMQ860      0.067473\n",
      "HUQ010      0.064566\n",
      "DMDHHSZE    0.064368\n",
      "PAQ715      0.063481\n",
      "SMQ870      0.063410\n",
      "DIQ180      0.059590\n",
      "SMQ856      0.059506\n",
      "WHD020      0.059146\n",
      "OHQ033      0.056810\n",
      "OCD150      0.055815\n",
      "WHD120      0.054858\n",
      "CBQ505      0.053403\n",
      "WHD050      0.053062\n",
      "CBD120      0.049439\n",
      "DMDMARTL    0.046651\n",
      "OHQ030      0.044819\n",
      "HOQ065      0.044553\n",
      "DMDCITZN    0.042448\n",
      "HIQ011      0.042284\n",
      "RIAGENDR    0.041568\n",
      "FSDAD       0.041039\n",
      "WHD140      0.038327\n",
      "FSDHH       0.037748\n",
      "DMDHRMAR    0.036243\n",
      "DMDHRBR4    0.035294\n",
      "CBD070      0.033780\n",
      "HOD050      0.033728\n",
      "DMDBORN4    0.033708\n",
      "DMDHHSZB    0.033333\n",
      "SMD460      0.032836\n",
      "INQ020      0.032666\n",
      "CBD090      0.032229\n",
      "WHQ150      0.029499\n",
      "CBD110      0.028947\n",
      "FIALANG     0.028664\n",
      "CBD130      0.025880\n",
      "CBQ550      0.024057\n",
      "DBD895      0.021139\n",
      "WHD010      0.013298\n",
      "DBD905      0.013236\n",
      "HUQ051      0.009129\n",
      "DBD910      0.007790\n",
      "SIALANG     0.003216\n",
      "MIALANG     0.001012\n",
      "Name: DPQ020, dtype: float64\n"
     ]
    }
   ],
   "source": [
    "print('Shape of DataFrame before dropping unwanted features: ', df.shape)\n",
    "remove_list = ['SIAPROXY','SDMVSTRA','SMAQUEX.y','RIDSTATR','HSAQUEX','MIAPROXY','SMAQUEX.x','SDDSRVYR','FIAPROXY','SEQN','DPQ010','DPQ030','DPQ040','DPQ050','DPQ060','DPQ070','DPQ080','DPQ090','DPQ100']#['DIQ160', 'DIQ050', 'DIQ180', 'DIQ172', 'DIQ170']#, 'SLQ060', 'SIAPROXY', 'HUQ010', 'HUQ010', 'DMDHRAGE', 'DLQ060', 'RIDAGEYR', 'DLQ050', 'WTINT2YR', 'WTMEC2YR']\n",
    "keep_list = set(df.columns) - set(remove_list)\n",
    "df = df[keep_list]\n",
    "prefix_list = []#['MCQ','HUQ','BPQ','PFQ','DLQ','HSD', 'OHQ', 'WHQ', 'SEQN', 'DPQ', 'HIQ', 'HSQ', 'WHD', 'DMD', 'DBQ']\n",
    "df = df.loc[:,~df.columns.str.startswith(tuple(prefix_list))]\n",
    "print('Shape of DataFrame after dropping unwanted features: ', df.shape)\n",
    "\n",
    "c1 = df.corr().abs()\n",
    "dc1 = c1['DPQ020'].dropna().sort_values(kind=\"quicksort\", ascending=False)\n",
    "\n",
    "df = df[list(dc1.index)[:36]]\n",
    "\n",
    "with pd.option_context('display.max_rows', None, 'display.max_columns', None):  # more options can be specified also\n",
    "    print(dc1)\n"
   ]
  },
  {
   "cell_type": "code",
   "execution_count": 15,
   "metadata": {},
   "outputs": [],
   "source": [
    "from sklearn import preprocessing\n",
    "\n",
    "X = df.drop('DPQ020', 1)\n",
    "y = df['DPQ020']\n",
    "\n",
    "#Dummy variables\n",
    "dummy_list = []\n",
    "for col in df.drop('DPQ020', 1).columns:\n",
    "    if df[col].max() <= 99:\n",
    "        dummy_list.append(col)\n",
    "X = pd.get_dummies(X, prefix=dummy_list, columns=dummy_list)\n",
    "\n",
    "# Here we use the StandardScaler() method of the preprocessing package, and then call the fit() method with parameter X \n",
    "scaler = preprocessing.StandardScaler().fit(X)\n",
    "\n",
    "# Declare a variable called X_scaled, and assign it the result of calling the transform() method with parameter X \n",
    "X_scaled=scaler.transform(X)"
   ]
  },
  {
   "cell_type": "code",
   "execution_count": 16,
   "metadata": {},
   "outputs": [],
   "source": [
    "from sklearn.model_selection import train_test_split\n",
    "\n",
    "# Get the 1-dimensional flattened array of our response variable y by calling the ravel() function on y\n",
    "y = y.ravel()\n",
    "\n",
    "# Call the train_test_split() function with the first two parameters set to X_scaled and y \n",
    "# Declare four variables, X_train, X_test, y_train and y_test separated by commas \n",
    "X_train, X_test, y_train, y_test = train_test_split(X_scaled, y, test_size=0.25, random_state=1)"
   ]
  },
  {
   "cell_type": "code",
   "execution_count": 17,
   "metadata": {},
   "outputs": [
    {
     "name": "stdout",
     "output_type": "stream",
     "text": [
      "[0. 0. 1. ... 0. 0. 1.]\n",
      "0.8167655786350149\n",
      "runtime:  2.0734009742736816\n"
     ]
    }
   ],
   "source": [
    "import time\n",
    "from sklearn.metrics import accuracy_score\n",
    "from sklearn.ensemble import RandomForestClassifier\n",
    "\n",
    "tic = time.time()\n",
    "\n",
    "# Initialize our classifier\n",
    "clf = RandomForestClassifier(max_depth=200, n_estimators=100, max_features=100)\n",
    "\n",
    "# Train our classifier\n",
    "model = clf.fit(X_train, y_train)\n",
    "\n",
    "# Make predictions\n",
    "preds = clf.predict(X_test)\n",
    "print(preds)\n",
    "\n",
    "# Evaluate accuracy\n",
    "print(accuracy_score(y_test, preds))\n",
    "\n",
    "toc = time.time()\n",
    "print('runtime: ',toc-tic)"
   ]
  },
  {
   "cell_type": "code",
   "execution_count": 18,
   "metadata": {},
   "outputs": [
    {
     "data": {
      "text/plain": [
       "<matplotlib.axes._subplots.AxesSubplot at 0x135df19d0>"
      ]
     },
     "execution_count": 18,
     "metadata": {},
     "output_type": "execute_result"
    },
    {
     "data": {
      "image/png": "[encoded data removed]",
      "text/plain": [
       "<Figure size 432x288 with 1 Axes>"
      ]
     },
     "metadata": {
      "needs_background": "light"
     },
     "output_type": "display_data"
    }
   ],
   "source": [
    "pd.Series(preds).hist()"
   ]
  },
  {
   "cell_type": "code",
   "execution_count": 19,
   "metadata": {},
   "outputs": [
    {
     "data": {
      "text/html": [
       "<div>\n",
       "<style scoped>\n",
       "    .dataframe tbody tr th:only-of-type {\n",
       "        vertical-align: middle;\n",
       "    }\n",
       "\n",
       "    .dataframe tbody tr th {\n",
       "        vertical-align: top;\n",
       "    }\n",
       "\n",
       "    .dataframe thead th {\n",
       "        text-align: right;\n",
       "    }\n",
       "</style>\n",
       "<table border=\"1\" class=\"dataframe\">\n",
       "  <thead>\n",
       "    <tr style=\"text-align: right;\">\n",
       "      <th></th>\n",
       "      <th>y_test</th>\n",
       "      <th>preds</th>\n",
       "    </tr>\n",
       "  </thead>\n",
       "  <tbody>\n",
       "    <tr>\n",
       "      <th>0</th>\n",
       "      <td>0.0</td>\n",
       "      <td>0.0</td>\n",
       "    </tr>\n",
       "    <tr>\n",
       "      <th>1</th>\n",
       "      <td>0.0</td>\n",
       "      <td>0.0</td>\n",
       "    </tr>\n",
       "    <tr>\n",
       "      <th>2</th>\n",
       "      <td>0.0</td>\n",
       "      <td>1.0</td>\n",
       "    </tr>\n",
       "    <tr>\n",
       "      <th>3</th>\n",
       "      <td>0.0</td>\n",
       "      <td>0.0</td>\n",
       "    </tr>\n",
       "    <tr>\n",
       "      <th>4</th>\n",
       "      <td>0.0</td>\n",
       "      <td>0.0</td>\n",
       "    </tr>\n",
       "  </tbody>\n",
       "</table>\n",
       "</div>"
      ],
      "text/plain": [
       "   y_test  preds\n",
       "0     0.0    0.0\n",
       "1     0.0    0.0\n",
       "2     0.0    1.0\n",
       "3     0.0    0.0\n",
       "4     0.0    0.0"
      ]
     },
     "execution_count": 19,
     "metadata": {},
     "output_type": "execute_result"
    }
   ],
   "source": [
    "results = pd.DataFrame(y_test)\n",
    "results.columns = ['y_test']\n",
    "results['preds'] = preds\n",
    "results.head()"
   ]
  },
  {
   "cell_type": "code",
   "execution_count": 20,
   "metadata": {},
   "outputs": [
    {
     "name": "stdout",
     "output_type": "stream",
     "text": [
      "True Positive Rate:  0.4430769230769231\n",
      "True Negative Rate:  0.9354838709677419\n"
     ]
    }
   ],
   "source": [
    "true_pos = 0\n",
    "true_neg = 0\n",
    "\n",
    "for i in range(results.shape[0]):\n",
    "    if results.iloc[i][0] == 1 and results.iloc[i][1] == 1:\n",
    "        true_pos += 1\n",
    "    elif results.iloc[i][0] == 0 and results.iloc[i][1] == 0:\n",
    "        true_neg += 1\n",
    "\n",
    "print('True Positive Rate: ', true_pos/results[results.y_test ==  1].shape[0])\n",
    "print('True Negative Rate: ', true_neg/results[results.y_test ==  0].shape[0])"
   ]
  },
  {
   "cell_type": "code",
   "execution_count": null,
   "metadata": {},
   "outputs": [],
   "source": []
  }
 ],
 "metadata": {
  "kernelspec": {
   "display_name": "Python 3",
   "language": "python",
   "name": "python3"
  },
  "language_info": {
   "codemirror_mode": {
    "name": "ipython",
    "version": 3
   },
   "file_extension": ".py",
   "mimetype": "text/x-python",
   "name": "python",
   "nbconvert_exporter": "python",
   "pygments_lexer": "ipython3",
   "version": "3.8.3"
  }
 },
 "nbformat": 4,
 "nbformat_minor": 4
}
