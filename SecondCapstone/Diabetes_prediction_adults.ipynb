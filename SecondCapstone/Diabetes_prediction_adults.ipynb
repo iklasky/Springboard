{
 "cells": [
  {
   "cell_type": "markdown",
   "metadata": {},
   "source": [
    "# Predicting Diabetes in Adults\n",
    "### Ian Klasky\n",
    "#### Aug 19, 2020"
   ]
  },
  {
   "cell_type": "markdown",
   "metadata": {},
   "source": [
    "Diabetes is a costly diseases to both the patient, as well as our healthcare system. Cheaper and easier methods for detecting diabetes could help identify the disease earlier to improve health outcomes as well as decrease strain on our medical systems.\n",
    "\n",
    "In this notebook we will use data from the National Health and Nutrition Examination Survey (NHANES) along with machine learning algorithms to predict the occurence of diabetes in adults in the United States.\n",
    "\n",
    "The notebook is structured as follows:\n",
    "\n",
    "* [Preprocessing](#Preprocessing)\n",
    "    * [Importing Basic Packages & Data](#Importing)\n",
    "    * [Feature Engineering](#Feature)\n",
    "        * [Dropping Variables](#fc1)\n",
    "        * [Imputation](#fc1)\n",
    "        * [Creating Dummy Variables](#fc1)\n",
    "* [Modeling](#Modeling)\n",
    "    * [Logistic Regression](#Logistic)\n",
    "    * [Random Forest](#Random)\n",
    "* [Conclusions](#Conclusions)"
   ]
  },
  {
   "cell_type": "markdown",
   "metadata": {},
   "source": [
    "# Preprocessing<a name=\"Preprocessing\"></a>"
   ]
  },
  {
   "cell_type": "markdown",
   "metadata": {},
   "source": [
    "## Importing Basic Packages & Data<a name=\"Importing\"></a>"
   ]
  },
  {
   "cell_type": "code",
   "execution_count": 1,
   "metadata": {},
   "outputs": [],
   "source": [
    "import numpy as np\n",
    "import pandas as pd\n",
    "import matplotlib.pyplot as plt\n",
    "import seaborn as sns\n",
    "import warnings\n",
    "warnings.filterwarnings('ignore')"
   ]
  },
  {
   "cell_type": "markdown",
   "metadata": {},
   "source": [
    "The CDC publishes data from it's longitudinal NHANES study on it's [website](https://wwwn.cdc.gov/Nchs/Nhanes/).\n",
    "\n",
    "For this project I used the data collected from the years 2013-2014, as the CDC created a Kaggle post and community discussion about the data from these years. This dataset can be found [here](https://wwwn.cdc.gov/Nchs/Nhanes/continuousnhanes/default.aspx?BeginYear=2013).\n",
    "\n",
    "Of the 2013-2014 data, I only used the demographic, and questionaire information to predict patients having diabetes. I did not use other available csv's from this data set that contined the results of various medical tests and procedures, in an effort to ultimately base my predictions on readily accesible patient data, without requiring expensive tests."
   ]
  },
  {
   "cell_type": "code",
   "execution_count": 2,
   "metadata": {},
   "outputs": [
    {
     "data": {
      "text/html": [
       "<div>\n",
       "<style scoped>\n",
       "    .dataframe tbody tr th:only-of-type {\n",
       "        vertical-align: middle;\n",
       "    }\n",
       "\n",
       "    .dataframe tbody tr th {\n",
       "        vertical-align: top;\n",
       "    }\n",
       "\n",
       "    .dataframe thead th {\n",
       "        text-align: right;\n",
       "    }\n",
       "</style>\n",
       "<table border=\"1\" class=\"dataframe\">\n",
       "  <thead>\n",
       "    <tr style=\"text-align: right;\">\n",
       "      <th></th>\n",
       "      <th>SEQN</th>\n",
       "      <th>SDDSRVYR</th>\n",
       "      <th>RIDSTATR</th>\n",
       "      <th>RIAGENDR</th>\n",
       "      <th>RIDAGEYR</th>\n",
       "      <th>RIDAGEMN</th>\n",
       "      <th>RIDRETH1</th>\n",
       "      <th>RIDRETH3</th>\n",
       "      <th>RIDEXMON</th>\n",
       "      <th>RIDEXAGM</th>\n",
       "      <th>...</th>\n",
       "      <th>WHD080U</th>\n",
       "      <th>WHD080L</th>\n",
       "      <th>WHD110</th>\n",
       "      <th>WHD120</th>\n",
       "      <th>WHD130</th>\n",
       "      <th>WHD140</th>\n",
       "      <th>WHQ150</th>\n",
       "      <th>WHQ030M</th>\n",
       "      <th>WHQ500</th>\n",
       "      <th>WHQ520</th>\n",
       "    </tr>\n",
       "  </thead>\n",
       "  <tbody>\n",
       "    <tr>\n",
       "      <th>0</th>\n",
       "      <td>73557</td>\n",
       "      <td>8</td>\n",
       "      <td>2</td>\n",
       "      <td>1</td>\n",
       "      <td>69</td>\n",
       "      <td>NaN</td>\n",
       "      <td>4</td>\n",
       "      <td>4</td>\n",
       "      <td>1.0</td>\n",
       "      <td>NaN</td>\n",
       "      <td>...</td>\n",
       "      <td>NaN</td>\n",
       "      <td>40.0</td>\n",
       "      <td>270.0</td>\n",
       "      <td>200.0</td>\n",
       "      <td>69.0</td>\n",
       "      <td>270.0</td>\n",
       "      <td>62.0</td>\n",
       "      <td>NaN</td>\n",
       "      <td>NaN</td>\n",
       "      <td>NaN</td>\n",
       "    </tr>\n",
       "    <tr>\n",
       "      <th>1</th>\n",
       "      <td>73558</td>\n",
       "      <td>8</td>\n",
       "      <td>2</td>\n",
       "      <td>1</td>\n",
       "      <td>54</td>\n",
       "      <td>NaN</td>\n",
       "      <td>3</td>\n",
       "      <td>3</td>\n",
       "      <td>1.0</td>\n",
       "      <td>NaN</td>\n",
       "      <td>...</td>\n",
       "      <td>NaN</td>\n",
       "      <td>NaN</td>\n",
       "      <td>240.0</td>\n",
       "      <td>250.0</td>\n",
       "      <td>72.0</td>\n",
       "      <td>250.0</td>\n",
       "      <td>25.0</td>\n",
       "      <td>NaN</td>\n",
       "      <td>NaN</td>\n",
       "      <td>NaN</td>\n",
       "    </tr>\n",
       "    <tr>\n",
       "      <th>2</th>\n",
       "      <td>73559</td>\n",
       "      <td>8</td>\n",
       "      <td>2</td>\n",
       "      <td>1</td>\n",
       "      <td>72</td>\n",
       "      <td>NaN</td>\n",
       "      <td>3</td>\n",
       "      <td>3</td>\n",
       "      <td>2.0</td>\n",
       "      <td>NaN</td>\n",
       "      <td>...</td>\n",
       "      <td>NaN</td>\n",
       "      <td>NaN</td>\n",
       "      <td>180.0</td>\n",
       "      <td>190.0</td>\n",
       "      <td>70.0</td>\n",
       "      <td>228.0</td>\n",
       "      <td>35.0</td>\n",
       "      <td>NaN</td>\n",
       "      <td>NaN</td>\n",
       "      <td>NaN</td>\n",
       "    </tr>\n",
       "    <tr>\n",
       "      <th>3</th>\n",
       "      <td>73560</td>\n",
       "      <td>8</td>\n",
       "      <td>2</td>\n",
       "      <td>1</td>\n",
       "      <td>9</td>\n",
       "      <td>NaN</td>\n",
       "      <td>3</td>\n",
       "      <td>3</td>\n",
       "      <td>1.0</td>\n",
       "      <td>119.0</td>\n",
       "      <td>...</td>\n",
       "      <td>NaN</td>\n",
       "      <td>NaN</td>\n",
       "      <td>NaN</td>\n",
       "      <td>NaN</td>\n",
       "      <td>NaN</td>\n",
       "      <td>NaN</td>\n",
       "      <td>NaN</td>\n",
       "      <td>3.0</td>\n",
       "      <td>3.0</td>\n",
       "      <td>3.0</td>\n",
       "    </tr>\n",
       "    <tr>\n",
       "      <th>4</th>\n",
       "      <td>73561</td>\n",
       "      <td>8</td>\n",
       "      <td>2</td>\n",
       "      <td>2</td>\n",
       "      <td>73</td>\n",
       "      <td>NaN</td>\n",
       "      <td>3</td>\n",
       "      <td>3</td>\n",
       "      <td>1.0</td>\n",
       "      <td>NaN</td>\n",
       "      <td>...</td>\n",
       "      <td>NaN</td>\n",
       "      <td>NaN</td>\n",
       "      <td>150.0</td>\n",
       "      <td>135.0</td>\n",
       "      <td>67.0</td>\n",
       "      <td>170.0</td>\n",
       "      <td>60.0</td>\n",
       "      <td>NaN</td>\n",
       "      <td>NaN</td>\n",
       "      <td>NaN</td>\n",
       "    </tr>\n",
       "  </tbody>\n",
       "</table>\n",
       "<p>5 rows × 1000 columns</p>\n",
       "</div>"
      ],
      "text/plain": [
       "    SEQN  SDDSRVYR  RIDSTATR  RIAGENDR  RIDAGEYR  RIDAGEMN  RIDRETH1  \\\n",
       "0  73557         8         2         1        69       NaN         4   \n",
       "1  73558         8         2         1        54       NaN         3   \n",
       "2  73559         8         2         1        72       NaN         3   \n",
       "3  73560         8         2         1         9       NaN         3   \n",
       "4  73561         8         2         2        73       NaN         3   \n",
       "\n",
       "   RIDRETH3  RIDEXMON  RIDEXAGM  ...  WHD080U  WHD080L  WHD110  WHD120  \\\n",
       "0         4       1.0       NaN  ...      NaN     40.0   270.0   200.0   \n",
       "1         3       1.0       NaN  ...      NaN      NaN   240.0   250.0   \n",
       "2         3       2.0       NaN  ...      NaN      NaN   180.0   190.0   \n",
       "3         3       1.0     119.0  ...      NaN      NaN     NaN     NaN   \n",
       "4         3       1.0       NaN  ...      NaN      NaN   150.0   135.0   \n",
       "\n",
       "   WHD130  WHD140  WHQ150  WHQ030M  WHQ500  WHQ520  \n",
       "0    69.0   270.0    62.0      NaN     NaN     NaN  \n",
       "1    72.0   250.0    25.0      NaN     NaN     NaN  \n",
       "2    70.0   228.0    35.0      NaN     NaN     NaN  \n",
       "3     NaN     NaN     NaN      3.0     3.0     3.0  \n",
       "4    67.0   170.0    60.0      NaN     NaN     NaN  \n",
       "\n",
       "[5 rows x 1000 columns]"
      ]
     },
     "execution_count": 2,
     "metadata": {},
     "output_type": "execute_result"
    }
   ],
   "source": [
    "df1 = pd.read_csv('data/demographic.csv')\n",
    "df2 = pd.read_csv('data/questionnaire.csv')\n",
    "\n",
    "df = pd.concat([df1, df2], axis=1, join='inner')\n",
    "\n",
    "df.head()"
   ]
  },
  {
   "cell_type": "markdown",
   "metadata": {},
   "source": [
    "## Feature Engineering<a name=\"Feature_Engineering\"></a>"
   ]
  },
  {
   "cell_type": "markdown",
   "metadata": {},
   "source": [
    "In the cells below we see the increased number of nearly complete columns when we drop the participants that are younger than 18 years old from the dataset."
   ]
  },
  {
   "cell_type": "code",
   "execution_count": 3,
   "metadata": {},
   "outputs": [
    {
     "data": {
      "image/png": "[encoded data removed]",
      "text/plain": [
       "<Figure size 432x288 with 1 Axes>"
      ]
     },
     "metadata": {
      "needs_background": "light"
     },
     "output_type": "display_data"
    }
   ],
   "source": [
    "nas=pd.DataFrame(df.isnull().sum().sort_values(ascending=False)/len(df),columns = ['percent missing'])\n",
    "pos = nas['percent missing'] > 0\n",
    "nas[pos]\n",
    "nas.hist(bins = 20)\n",
    "acceptable_feats = nas.loc[nas['percent missing'] < 0.2]\n",
    "list_acceptable_feats = list(acceptable_feats.index)"
   ]
  },
  {
   "cell_type": "code",
   "execution_count": 4,
   "metadata": {},
   "outputs": [
    {
     "name": "stdout",
     "output_type": "stream",
     "text": [
      "Shape of DataFrame with all data:  (10175, 1000)\n",
      "Shape of DataFrame with only 20 year olds and older:  (6113, 1000)\n"
     ]
    }
   ],
   "source": [
    "print('Shape of DataFrame with all data: ', df.shape)\n",
    "df = df.loc[(df.RIDAGEYR >= 18)]\n",
    "df2 = df1#[df1.columns[df1.isna().sum() < 1000]]\n",
    "print('Shape of DataFrame with only 20 year olds and older: ', df.shape)"
   ]
  },
  {
   "cell_type": "code",
   "execution_count": 5,
   "metadata": {},
   "outputs": [
    {
     "data": {
      "image/png": "[encoded data removed]",
      "text/plain": [
       "<Figure size 432x288 with 1 Axes>"
      ]
     },
     "metadata": {
      "needs_background": "light"
     },
     "output_type": "display_data"
    }
   ],
   "source": [
    "nas=pd.DataFrame(df.isnull().sum().sort_values(ascending=False)/len(df),columns = ['percent missing'])\n",
    "pos = nas['percent missing'] > 0\n",
    "nas[pos]\n",
    "nas.hist(bins = 20)\n",
    "acceptable_feats = nas.loc[nas['percent missing'] < 0.2]\n",
    "list_acceptable_feats = list(acceptable_feats.index)"
   ]
  },
  {
   "cell_type": "code",
   "execution_count": 6,
   "metadata": {},
   "outputs": [
    {
     "name": "stdout",
     "output_type": "stream",
     "text": [
      "DIQ010      1.000000\n",
      "DIQ160      0.363480\n",
      "DIQ050      0.342668\n",
      "RIDAGEYR    0.177234\n",
      "MCQ365D     0.176189\n",
      "              ...   \n",
      "DMDBORN4    0.001508\n",
      "FSDHH       0.001427\n",
      "MCQ160K     0.001338\n",
      "FSD032A     0.000870\n",
      "CBQ535      0.000343\n",
      "Name: DIQ010, Length: 203, dtype: float64\n"
     ]
    }
   ],
   "source": [
    "c = df[list_acceptable_feats].corr().abs()\n",
    "dc = c['DIQ010'].dropna().sort_values(kind=\"quicksort\", ascending=False)\n",
    "\n",
    "#with pd.option_context('display.max_rows', None, 'display.max_columns', None):  # more options can be specified also\n",
    "print(dc)"
   ]
  },
  {
   "cell_type": "code",
   "execution_count": 7,
   "metadata": {},
   "outputs": [
    {
     "name": "stdout",
     "output_type": "stream",
     "text": [
      "Percentage of survey responders with diabetes:  0.1223\n"
     ]
    }
   ],
   "source": [
    "df = df[list_acceptable_feats]\n",
    "df = df[df['DIQ010'].notna()]\n",
    "df = df[df['DIQ010'] != 3]\n",
    "df = df[df['DIQ010'] != 7]\n",
    "df = df[df['DIQ010'] != 9]\n",
    "ROO = round(df[df['DIQ010'] == 1].shape[0]/df.shape[0],4)\n",
    "df['DIQ010'] = df['DIQ010'].replace({2:0})\n",
    "print(\"Percentage of survey responders with diabetes: \", ROO)"
   ]
  },
  {
   "cell_type": "markdown",
   "metadata": {},
   "source": [
    "Below is the distribution of adult patients that have (1) and don't have (0) diabetes."
   ]
  },
  {
   "cell_type": "code",
   "execution_count": 42,
   "metadata": {},
   "outputs": [
    {
     "data": {
      "text/plain": [
       "Text(0, 0.5, 'Number of Respondants')"
      ]
     },
     "execution_count": 42,
     "metadata": {},
     "output_type": "execute_result"
    },
    {
     "data": {
      "image/png": "[encoded data removed]",
      "text/plain": [
       "<Figure size 432x288 with 1 Axes>"
      ]
     },
     "metadata": {
      "needs_background": "light"
     },
     "output_type": "display_data"
    }
   ],
   "source": [
    "df['DIQ010'].replace({0: 'Diabetes Negative', 1: 'Diabetes Positive'}).hist()\n",
    "plt.title(\"Diabetes in Adult Respondants\")\n",
    "plt.xlabel(\"Diabetes Status\")\n",
    "plt.ylabel(\"Number of Respondants\")"
   ]
  },
  {
   "cell_type": "markdown",
   "metadata": {},
   "source": [
    "### Imputation<a name=\"Imputation\"></a>"
   ]
  },
  {
   "cell_type": "code",
   "execution_count": 9,
   "metadata": {},
   "outputs": [
    {
     "name": "stdout",
     "output_type": "stream",
     "text": [
      "Before imputation:  42126 missing\n",
      "After imputation:  0 missing\n",
      "runtime:  0.4684000015258789\n"
     ]
    }
   ],
   "source": [
    "from sklearn.impute import KNNImputer\n",
    "import time\n",
    "\n",
    "tic = round(time.time(),4)\n",
    "\n",
    "col_names = list(df.columns)\n",
    "\n",
    "print('Before imputation: ', df.isnull().sum().sum(), 'missing')\n",
    "\n",
    "#fill na's with medians\n",
    "for col in df.columns:\n",
    "    df[col] = df[col].fillna((df[col].median()))\n",
    "    \n",
    "#fill na's using KNN\n",
    "#imputer = KNNImputer(n_neighbors=3)\n",
    "#df = pd.DataFrame(imputer.fit_transform(df))\n",
    "      \n",
    "print('After imputation: ', df.isnull().sum().sum(), 'missing')\n",
    "\n",
    "df.columns = col_names\n",
    "\n",
    "toc = round(time.time(),4)\n",
    "print('runtime: ',toc-tic)"
   ]
  },
  {
   "cell_type": "markdown",
   "metadata": {},
   "source": [
    "### Creating Dummy Variables<a name=\"Creating_Dummy_Variables\"></a>"
   ]
  },
  {
   "cell_type": "code",
   "execution_count": 10,
   "metadata": {},
   "outputs": [
    {
     "name": "stdout",
     "output_type": "stream",
     "text": [
      "Shape of DataFrame before dropping unwanted features:  (5934, 209)\n",
      "Shape of DataFrame after dropping unwanted features:  (5934, 204)\n"
     ]
    }
   ],
   "source": [
    "print('Shape of DataFrame before dropping unwanted features: ', df.shape)\n",
    "remove_list = ['DIQ160', 'DIQ050', 'DIQ180', 'DIQ172', 'DIQ170']#, 'SLQ060', 'SIAPROXY', 'HUQ010', 'HUQ010', 'DMDHRAGE', 'DLQ060', 'RIDAGEYR', 'DLQ050', 'WTINT2YR', 'WTMEC2YR']\n",
    "keep_list = set(df.columns) - set(remove_list)\n",
    "df = df[keep_list]\n",
    "prefix_list = []#['MCQ','HUQ','BPQ','PFQ','DLQ','HSD', 'OHQ', 'WHQ', 'SEQN', 'DPQ', 'HIQ', 'HSQ', 'WHD', 'DMD', 'DBQ']\n",
    "df = df.loc[:,~df.columns.str.startswith(tuple(prefix_list))]\n",
    "print('Shape of DataFrame after dropping unwanted features: ', df.shape)\n",
    "\n",
    "# c1 = df.corr().abs()\n",
    "# dc1 = c1['DIQ010'].dropna().sort_values(kind=\"quicksort\", ascending=False)\n",
    "\n",
    "# df = df[list(dc1.index)[:8]]\n",
    "\n",
    "# with pd.option_context('display.max_rows', None, 'display.max_columns', None):  # more options can be specified also\n",
    "#     print(dc1[:8])"
   ]
  },
  {
   "cell_type": "markdown",
   "metadata": {},
   "source": [
    "We will now select feature using logistic regression."
   ]
  },
  {
   "cell_type": "markdown",
   "metadata": {},
   "source": [
    "### Feature Selection<a name=\"Feature_Selection\"></a>"
   ]
  },
  {
   "cell_type": "code",
   "execution_count": 11,
   "metadata": {},
   "outputs": [
    {
     "name": "stdout",
     "output_type": "stream",
     "text": [
      "Num Features: 63\n"
     ]
    }
   ],
   "source": [
    "from sklearn.feature_selection import RFE\n",
    "from sklearn.linear_model import LogisticRegression\n",
    "from sklearn.ensemble import RandomForestClassifier\n",
    "\n",
    "X_fs = df.drop('DIQ010',axis=1)\n",
    "y_fs = df['DIQ010']\n",
    "\n",
    "num_featurse = 63\n",
    "model = LogisticRegression()\n",
    "rfe = RFE(model, num_featurse)\n",
    "fit = rfe.fit(X_fs, y_fs)\n",
    "print(\"Num Features: %s\" % (fit.n_features_))\n",
    "# print(\"Selected Features: %s\" % (fit.support_))\n",
    "# print(\"Feature Ranking: %s\" % (fit.ranking_))"
   ]
  },
  {
   "cell_type": "code",
   "execution_count": 12,
   "metadata": {},
   "outputs": [
    {
     "name": "stdout",
     "output_type": "stream",
     "text": [
      "['DMDMARTL', 'DPQ050', 'PAQ710', 'DLQ050', 'PAQ635', 'WHQ040', 'DMDHHSZA', 'DPQ070', 'PFQ049', 'INQ080', 'BPQ056', 'HSQ590', 'DMDHREDU', 'INQ030', 'DPQ060', 'HIQ011', 'MCQ365A', 'DLQ010', 'MCQ370D', 'OCD150', 'SLQ050', 'HUQ010', 'DMDEDUC2', 'MCQ160E', 'SMQ020', 'HUQ030', 'MCQ365B', 'OCD390G', 'DMDFMSIZ', 'BPQ020', 'PAQ650', 'DLQ020', 'DMDHHSZB', 'DPQ040', 'HUQ051', 'SLD010H', 'RIDRETH3', 'SLQ060', 'MCQ160A', 'MCQ370C', 'MCQ080', 'HSD010', 'INQ020', 'BPQ059', 'SMQ878', 'MCQ365C', 'DPQ080', 'DMDHHSIZ', 'DPQ010', 'HUQ020', 'BPQ080', 'OHQ033', 'RIDAGEYR', 'PAQ715', 'PFQ054', 'HOQ065', 'SMQ874', 'DBQ700', 'MCQ370A', 'DMDHRMAR', 'MCQ365D', 'MCQ300C', 'HUQ071']\n"
     ]
    }
   ],
   "source": [
    "#print(type(list(fit.support_)))\n",
    "#print(type(list(X_fs.columns)))\n",
    "fs_results = zip(list(fit.support_),list(X_fs.columns))\n",
    "\n",
    "selected_feats = []\n",
    "for TF, col_name in fs_results:\n",
    "    if TF == True:\n",
    "        selected_feats.append(col_name)\n",
    "print(selected_feats)"
   ]
  },
  {
   "cell_type": "markdown",
   "metadata": {},
   "source": [
    "# Modeling<a name=\"Modeling\"></a>"
   ]
  },
  {
   "cell_type": "code",
   "execution_count": 13,
   "metadata": {},
   "outputs": [],
   "source": [
    "from sklearn import preprocessing\n",
    "\n",
    "#df['DIQ010'] = df['DIQ010'].replace({2:0})\n",
    "\n",
    "#X = df.drop('DIQ010',axis=1)\n",
    "X = df[selected_feats]\n",
    "y = df['DIQ010']\n",
    "\n",
    "#Dummy variables\n",
    "dummy_list = []\n",
    "# for col in df.drop('DIQ010', 1).columns:\n",
    "#     print(df[col].max())\n",
    "#     if df[col].max() <= 99 and df[col].max() != 80:\n",
    "#         dummy_list.append(col)\n",
    "# X = pd.get_dummies(X, prefix=dummy_list, columns=dummy_list)\n",
    "\n",
    "for col in X.columns:\n",
    "    if X[col].max() <= 99 and X[col].max() != 80:\n",
    "        dummy_list.append(col)\n",
    "X = pd.get_dummies(X, prefix=dummy_list, columns=dummy_list)\n",
    "\n",
    "# Here we use the StandardScaler() method of the preprocessing package, and then call the fit() method with parameter X \n",
    "scaler = preprocessing.StandardScaler().fit(X)\n",
    "\n",
    "# Declare a variable called X_scaled, and assign it the result of calling the transform() method with parameter X \n",
    "X_scaled=scaler.transform(X)\n",
    "\n",
    "# Get the 1-dimensional flattened array of our response variable y by calling the ravel() function on y\n",
    "y = y.ravel()"
   ]
  },
  {
   "cell_type": "code",
   "execution_count": 14,
   "metadata": {},
   "outputs": [],
   "source": [
    "from sklearn.model_selection import train_test_split\n",
    "\n",
    "# Call the train_test_split() function with the first two parameters set to X_scaled and y \n",
    "# Declare four variables, X_train, X_test, y_train and y_test separated by commas \n",
    "X_train, X_test, y_train, y_test = train_test_split(X, y, test_size=0.2, random_state = 1)"
   ]
  },
  {
   "cell_type": "markdown",
   "metadata": {},
   "source": [
    "We will now run a logistic regression model on our remaining features to predict for diabetes."
   ]
  },
  {
   "cell_type": "code",
   "execution_count": 15,
   "metadata": {},
   "outputs": [
    {
     "data": {
      "text/plain": [
       "LogisticRegression(class_weight='balanced', random_state=42)"
      ]
     },
     "execution_count": 15,
     "metadata": {},
     "output_type": "execute_result"
    }
   ],
   "source": [
    "from sklearn.linear_model import LogisticRegression\n",
    "from sklearn import metrics\n",
    "logreg = LogisticRegression(class_weight = 'balanced',random_state=42)\n",
    "logreg.fit(X_train, y_train)"
   ]
  },
  {
   "cell_type": "code",
   "execution_count": 16,
   "metadata": {},
   "outputs": [],
   "source": [
    "y_pred_lr = logreg.predict(X_test)"
   ]
  },
  {
   "cell_type": "code",
   "execution_count": 17,
   "metadata": {},
   "outputs": [],
   "source": [
    "import sklearn.metrics as metrics\n",
    "# calculate the fpr and tpr for all thresholds of the classification\n",
    "# fpr, tpr, threshold = metrics.roc_curve(y_test, logreg.predict_proba(X_test)[:,1])\n",
    "# roc_auc = metrics.auc(fpr, tpr)"
   ]
  },
  {
   "cell_type": "code",
   "execution_count": 44,
   "metadata": {},
   "outputs": [
    {
     "data": {
      "image/png": "[encoded data removed]",
      "text/plain": [
       "<Figure size 432x288 with 1 Axes>"
      ]
     },
     "metadata": {
      "needs_background": "light"
     },
     "output_type": "display_data"
    }
   ],
   "source": [
    "from sklearn.metrics import roc_auc_score\n",
    "from sklearn.metrics import roc_curve\n",
    "from sklearn.metrics import auc\n",
    "from sklearn.metrics import plot_roc_curve\n",
    "plot_roc_curve(logreg, X_test, y_test)\n",
    "plt.plot([0, 1], [0, 1],'r--')\n",
    "plt.title('ROC Curve of Random Forest Classifier')\n",
    "plt.show()"
   ]
  },
  {
   "cell_type": "code",
   "execution_count": 19,
   "metadata": {},
   "outputs": [
    {
     "data": {
      "text/plain": [
       "0.8781897874775642"
      ]
     },
     "execution_count": 19,
     "metadata": {},
     "output_type": "execute_result"
    }
   ],
   "source": [
    "roc_auc_score(y_test, logreg.predict_proba(X_test)[:,1])"
   ]
  },
  {
   "cell_type": "code",
   "execution_count": 20,
   "metadata": {},
   "outputs": [
    {
     "data": {
      "text/plain": [
       "array([[0.84652485, 0.15347515],\n",
       "       [0.06455572, 0.93544428],\n",
       "       [0.23180027, 0.76819973],\n",
       "       ...,\n",
       "       [0.99662483, 0.00337517],\n",
       "       [0.24529787, 0.75470213],\n",
       "       [0.99180766, 0.00819234]])"
      ]
     },
     "execution_count": 20,
     "metadata": {},
     "output_type": "execute_result"
    }
   ],
   "source": [
    "logreg.predict_proba(X_test)"
   ]
  },
  {
   "cell_type": "code",
   "execution_count": 21,
   "metadata": {},
   "outputs": [],
   "source": [
    "probs = pd.DataFrame(logreg.predict_proba(X_test))"
   ]
  },
  {
   "cell_type": "code",
   "execution_count": 22,
   "metadata": {},
   "outputs": [],
   "source": [
    "probs['label'] = y_test\n",
    "probs['pred'] = y_pred_lr"
   ]
  },
  {
   "cell_type": "code",
   "execution_count": 23,
   "metadata": {},
   "outputs": [],
   "source": [
    "probs.columns = probs.columns.map(str)\n",
    "probs.rename(columns={'0': \"neg\", '1': \"pos\"},inplace=True)"
   ]
  },
  {
   "cell_type": "code",
   "execution_count": 24,
   "metadata": {},
   "outputs": [],
   "source": [
    "probs.sort_values(by=['pos'], axis=0, ascending=False, inplace=True,ignore_index=True)"
   ]
  },
  {
   "cell_type": "code",
   "execution_count": 25,
   "metadata": {},
   "outputs": [
    {
     "data": {
      "text/html": [
       "<div>\n",
       "<style scoped>\n",
       "    .dataframe tbody tr th:only-of-type {\n",
       "        vertical-align: middle;\n",
       "    }\n",
       "\n",
       "    .dataframe tbody tr th {\n",
       "        vertical-align: top;\n",
       "    }\n",
       "\n",
       "    .dataframe thead th {\n",
       "        text-align: right;\n",
       "    }\n",
       "</style>\n",
       "<table border=\"1\" class=\"dataframe\">\n",
       "  <thead>\n",
       "    <tr style=\"text-align: right;\">\n",
       "      <th></th>\n",
       "      <th>neg</th>\n",
       "      <th>pos</th>\n",
       "      <th>label</th>\n",
       "      <th>pred</th>\n",
       "    </tr>\n",
       "  </thead>\n",
       "  <tbody>\n",
       "    <tr>\n",
       "      <th>0</th>\n",
       "      <td>0.002924</td>\n",
       "      <td>0.997076</td>\n",
       "      <td>1.0</td>\n",
       "      <td>1.0</td>\n",
       "    </tr>\n",
       "    <tr>\n",
       "      <th>1</th>\n",
       "      <td>0.003097</td>\n",
       "      <td>0.996903</td>\n",
       "      <td>1.0</td>\n",
       "      <td>1.0</td>\n",
       "    </tr>\n",
       "    <tr>\n",
       "      <th>2</th>\n",
       "      <td>0.006095</td>\n",
       "      <td>0.993905</td>\n",
       "      <td>1.0</td>\n",
       "      <td>1.0</td>\n",
       "    </tr>\n",
       "    <tr>\n",
       "      <th>3</th>\n",
       "      <td>0.010289</td>\n",
       "      <td>0.989711</td>\n",
       "      <td>1.0</td>\n",
       "      <td>1.0</td>\n",
       "    </tr>\n",
       "    <tr>\n",
       "      <th>4</th>\n",
       "      <td>0.010403</td>\n",
       "      <td>0.989597</td>\n",
       "      <td>1.0</td>\n",
       "      <td>1.0</td>\n",
       "    </tr>\n",
       "    <tr>\n",
       "      <th>...</th>\n",
       "      <td>...</td>\n",
       "      <td>...</td>\n",
       "      <td>...</td>\n",
       "      <td>...</td>\n",
       "    </tr>\n",
       "    <tr>\n",
       "      <th>1182</th>\n",
       "      <td>0.999482</td>\n",
       "      <td>0.000518</td>\n",
       "      <td>0.0</td>\n",
       "      <td>0.0</td>\n",
       "    </tr>\n",
       "    <tr>\n",
       "      <th>1183</th>\n",
       "      <td>0.999556</td>\n",
       "      <td>0.000444</td>\n",
       "      <td>0.0</td>\n",
       "      <td>0.0</td>\n",
       "    </tr>\n",
       "    <tr>\n",
       "      <th>1184</th>\n",
       "      <td>0.999649</td>\n",
       "      <td>0.000351</td>\n",
       "      <td>0.0</td>\n",
       "      <td>0.0</td>\n",
       "    </tr>\n",
       "    <tr>\n",
       "      <th>1185</th>\n",
       "      <td>0.999662</td>\n",
       "      <td>0.000338</td>\n",
       "      <td>0.0</td>\n",
       "      <td>0.0</td>\n",
       "    </tr>\n",
       "    <tr>\n",
       "      <th>1186</th>\n",
       "      <td>0.999826</td>\n",
       "      <td>0.000174</td>\n",
       "      <td>0.0</td>\n",
       "      <td>0.0</td>\n",
       "    </tr>\n",
       "  </tbody>\n",
       "</table>\n",
       "<p>1187 rows × 4 columns</p>\n",
       "</div>"
      ],
      "text/plain": [
       "           neg       pos  label  pred\n",
       "0     0.002924  0.997076    1.0   1.0\n",
       "1     0.003097  0.996903    1.0   1.0\n",
       "2     0.006095  0.993905    1.0   1.0\n",
       "3     0.010289  0.989711    1.0   1.0\n",
       "4     0.010403  0.989597    1.0   1.0\n",
       "...        ...       ...    ...   ...\n",
       "1182  0.999482  0.000518    0.0   0.0\n",
       "1183  0.999556  0.000444    0.0   0.0\n",
       "1184  0.999649  0.000351    0.0   0.0\n",
       "1185  0.999662  0.000338    0.0   0.0\n",
       "1186  0.999826  0.000174    0.0   0.0\n",
       "\n",
       "[1187 rows x 4 columns]"
      ]
     },
     "execution_count": 25,
     "metadata": {},
     "output_type": "execute_result"
    }
   ],
   "source": [
    "probs"
   ]
  },
  {
   "cell_type": "code",
   "execution_count": 26,
   "metadata": {},
   "outputs": [
    {
     "name": "stdout",
     "output_type": "stream",
     "text": [
      "     pred_neg  pred_pos\n",
      "neg         0        65\n",
      "pos         0        62\n",
      "     pred_neg  pred_pos\n",
      "neg         0        71\n",
      "pos         0        36\n",
      "     pred_neg  pred_pos\n",
      "neg        59        37\n",
      "pos        12        13\n",
      "     pred_neg  pred_pos\n",
      "neg       134         0\n",
      "pos        15         0\n",
      "     pred_neg  pred_pos\n",
      "neg       673         0\n",
      "pos        10         0\n"
     ]
    }
   ],
   "source": [
    "from sklearn.metrics import classification_report, confusion_matrix\n",
    "\n",
    "segments = 5\n",
    "\n",
    "for i in range(segments):\n",
    "    #conf_mat_segmented = pd.DataFrame(confusion_matrix(probs.label[i*round(probs.shape[0]/segments):(i+1)*round(probs.shape[0]/segments)], probs.pred[i*round(probs.shape[0]/segments):(i+1)*round(probs.shape[0]/segments)]),columns=['pred_neg', 'pred_pos'], index=['neg', 'pos'])\n",
    "    conf_mat_segmented = pd.DataFrame(confusion_matrix(probs.loc[(probs.pos <= (1-i*(1/segments))) & (probs.pos > (1-(1/segments)-i*(1/segments)))].label, probs.loc[(probs.pos <= (1-i*(1/segments))) & (probs.pos > (1-(1/segments)-i*(1/segments)))].pred),columns=['pred_neg', 'pred_pos'], index=['neg', 'pos'])\n",
    "    print(conf_mat_segmented)\n",
    "    "
   ]
  },
  {
   "cell_type": "code",
   "execution_count": null,
   "metadata": {},
   "outputs": [],
   "source": []
  },
  {
   "cell_type": "code",
   "execution_count": null,
   "metadata": {},
   "outputs": [],
   "source": []
  },
  {
   "cell_type": "code",
   "execution_count": 27,
   "metadata": {},
   "outputs": [
    {
     "name": "stdout",
     "output_type": "stream",
     "text": [
      "\n",
      "Confusion matrix of Logistic Regression model\n",
      "\n",
      "     pred_neg  pred_pos\n",
      "neg       866       173\n",
      "pos        37       111\n",
      "\n",
      "Sensitivity:  0.75\n",
      "Sensitivity / rate of occurence in sample:  6.1325\n",
      "Specificity:  0.8335\n"
     ]
    }
   ],
   "source": [
    "from sklearn.metrics import classification_report, confusion_matrix\n",
    "conf_mat_lr = pd.DataFrame(confusion_matrix(y_test, y_pred_lr),columns=['pred_neg', 'pred_pos'], index=['neg', 'pos'])\n",
    "print('\\nConfusion matrix of Logistic Regression model\\n')\n",
    "print(conf_mat_lr)\n",
    "print('\\nSensitivity: ', round(conf_mat_lr.pred_pos[1]/(conf_mat_lr.pred_neg[1]+conf_mat_lr.pred_pos[1]),4))\n",
    "print('Sensitivity / rate of occurence in sample: ', round(conf_mat_lr.pred_pos[1]/(conf_mat_lr.pred_neg[1]+conf_mat_lr.pred_pos[1])/ROO,4))\n",
    "print('Specificity: ', round(conf_mat_lr.pred_neg[0]/(conf_mat_lr.pred_neg[0]+conf_mat_lr.pred_pos[0]),4))"
   ]
  },
  {
   "cell_type": "code",
   "execution_count": 28,
   "metadata": {},
   "outputs": [],
   "source": [
    "X_train2, X_test2, y_train2, y_test2 = train_test_split(X, y, test_size=0.2, random_state = 1)"
   ]
  },
  {
   "cell_type": "code",
   "execution_count": 29,
   "metadata": {},
   "outputs": [],
   "source": [
    "from sklearn.metrics import roc_auc_score, precision_recall_curve, auc, make_scorer, recall_score, accuracy_score, precision_score, confusion_matrix\n",
    "from sklearn.model_selection import GridSearchCV, StratifiedKFold\n",
    "from sklearn.ensemble import RandomForestClassifier\n",
    "\n",
    "clf = RandomForestClassifier(class_weight = 'balanced',random_state = 42)\n",
    "\n",
    "param_grid = {\n",
    "    'n_estimators' : [100,200,300],\n",
    "    'max_depth': [3,10,15]\n",
    "}\n",
    "\n",
    "scorers = {\n",
    "    'precision_score': make_scorer(precision_score),\n",
    "    'recall_score': make_scorer(recall_score),\n",
    "    'accuracy_score': make_scorer(accuracy_score),\n",
    "    'roc_auc_score': make_scorer(roc_auc_score)\n",
    "}"
   ]
  },
  {
   "cell_type": "code",
   "execution_count": 30,
   "metadata": {},
   "outputs": [],
   "source": [
    "def grid_search_wrapper(refit_score='roc_auc_score'):\n",
    "    \"\"\"\n",
    "    fits a GridSearchCV classifier using refit_score for optimization\n",
    "    prints classifier performance metrics\n",
    "    \"\"\"\n",
    "    grid_search = GridSearchCV(clf, param_grid, scoring=scorers, refit=refit_score,\n",
    "                           cv=3, return_train_score=True, n_jobs=-1)\n",
    "    grid_search.fit(X_train, y_train)\n",
    "\n",
    "    # make the predictions\n",
    "    y_pred2 = grid_search.predict(X_test.values)\n",
    "\n",
    "    print('Best params for {}'.format(refit_score))\n",
    "    print(grid_search.best_params_)\n",
    "\n",
    "    # confusion matrix on the test data.\n",
    "    print('\\nConfusion matrix of Random Forest optimized for {} on the test data:'.format(refit_score))\n",
    "    conf_mat = pd.DataFrame(confusion_matrix(y_test, y_pred2),columns=['pred_neg', 'pred_pos'], index=['neg', 'pos'])\n",
    "    print(conf_mat)\n",
    "    print('\\nSensitivity: ', round(conf_mat.pred_pos[1]/(conf_mat.pred_neg[1]+conf_mat.pred_pos[1]),4))\n",
    "    print('Sensitivity / rate of occurence in sample: ', round((conf_mat.pred_pos[1]/(conf_mat.pred_neg[1]+conf_mat.pred_pos[1]))/ROO,4))\n",
    "    print('\\nSpecificity: ', round(conf_mat.pred_neg[0]/(conf_mat.pred_neg[0]+conf_mat.pred_pos[0]),4))\n",
    "    return grid_search, y_pred2"
   ]
  },
  {
   "cell_type": "code",
   "execution_count": 31,
   "metadata": {},
   "outputs": [
    {
     "name": "stdout",
     "output_type": "stream",
     "text": [
      "Best params for roc_auc_score\n",
      "{'max_depth': 3, 'n_estimators': 100}\n",
      "\n",
      "Confusion matrix of Random Forest optimized for roc_auc_score on the test data:\n",
      "     pred_neg  pred_pos\n",
      "neg       800       239\n",
      "pos        33       115\n",
      "\n",
      "Sensitivity:  0.777\n",
      "Sensitivity / rate of occurence in sample:  6.3535\n",
      "\n",
      "Specificity:  0.77\n"
     ]
    }
   ],
   "source": [
    "grid_search_clf,y_pred2 = grid_search_wrapper(refit_score='roc_auc_score')"
   ]
  },
  {
   "cell_type": "code",
   "execution_count": 32,
   "metadata": {},
   "outputs": [],
   "source": [
    "# from sklearn.metrics import classification_report, confusion_matrix\n",
    "# conf_mat_rf = pd.DataFrame(confusion_matrix(y_test2, y_pred2),columns=['pred_neg', 'pred_pos'], index=['neg', 'pos'])\n",
    "# print('\\nConfusion matrix of Random Forest model\\n')\n",
    "# print(conf_mat_rf)\n",
    "# print('\\nSensitivity: ', round(conf_mat_rf.pred_pos[1]/(conf_mat_rf.pred_neg[1]+conf_mat_rf.pred_pos[1]),4))\n",
    "# print('Sensitivity / rate of occurence in sample: ', round(conf_mat_rf.pred_pos[1]/(conf_mat_rf.pred_neg[1]+conf_mat_rf.pred_pos[1])/ROO,4))\n",
    "# print('Specificity: ', round(conf_mat_rf.pred_neg[0]/(conf_mat_rf.pred_neg[0]+conf_mat_rf.pred_pos[0]),4))"
   ]
  },
  {
   "cell_type": "code",
   "execution_count": 43,
   "metadata": {},
   "outputs": [
    {
     "data": {
      "image/png": "[encoded data removed]",
      "text/plain": [
       "<Figure size 432x288 with 1 Axes>"
      ]
     },
     "metadata": {
      "needs_background": "light"
     },
     "output_type": "display_data"
    }
   ],
   "source": [
    "from sklearn.metrics import plot_roc_curve\n",
    "plot_roc_curve(grid_search_clf, X_test, y_test)\n",
    "plt.plot([0, 1], [0, 1],'r--')\n",
    "plt.title('ROC Curve of Random Forest Classifier')\n",
    "plt.show()"
   ]
  },
  {
   "cell_type": "code",
   "execution_count": 34,
   "metadata": {},
   "outputs": [],
   "source": [
    "from xgboost import XGBClassifier\n",
    "from sklearn.metrics import accuracy_score"
   ]
  },
  {
   "cell_type": "code",
   "execution_count": 35,
   "metadata": {},
   "outputs": [],
   "source": [
    "#X_train3, X_test3, y_train3, y_test3 = train_test_split(X, y, test_size=0.25, random_state = 1)"
   ]
  },
  {
   "cell_type": "code",
   "execution_count": 36,
   "metadata": {},
   "outputs": [
    {
     "name": "stdout",
     "output_type": "stream",
     "text": [
      "[03:02:17] WARNING: /Users/travis/build/dmlc/xgboost/src/learner.cc:480: \n",
      "Parameters: { class_weight } might not be used.\n",
      "\n",
      "  This may not be accurate due to some parameters are only used in language bindings but\n",
      "  passed down to XGBoost core.  Or some parameters are not used but slip through this\n",
      "  verification. Please open an issue if you find above cases.\n",
      "\n",
      "\n"
     ]
    },
    {
     "data": {
      "text/plain": [
       "XGBClassifier(base_score=0.5, booster='gbtree', class_weight='balanced',\n",
       "              colsample_bylevel=1, colsample_bynode=1, colsample_bytree=1,\n",
       "              gamma=0, gpu_id=-1, importance_type='gain',\n",
       "              interaction_constraints='', learning_rate=0.300000012,\n",
       "              max_delta_step=0, max_depth=6, min_child_weight=1, missing=nan,\n",
       "              monotone_constraints='()', n_estimators=100, n_jobs=0,\n",
       "              num_parallel_tree=1, random_state=17, reg_alpha=0, reg_lambda=1,\n",
       "              scale_pos_weight=1, subsample=1, tree_method='exact',\n",
       "              validate_parameters=1, verbosity=None)"
      ]
     },
     "execution_count": 36,
     "metadata": {},
     "output_type": "execute_result"
    }
   ],
   "source": [
    "xgboost = XGBClassifier(class_weight = 'balanced',random_state=17)\n",
    "params = {\n",
    "        'min_child_weight': [1, 5, 10],\n",
    "        'gamma': [0.5, 1, 1.5, 2, 5],\n",
    "        'subsample': [0.6, 0.8, 1.0],\n",
    "        'colsample_bytree': [0.6, 0.8, 1.0],\n",
    "        'max_depth': [3, 4, 5]\n",
    "        }\n",
    "xgboost.fit(X_train, y_train)"
   ]
  },
  {
   "cell_type": "code",
   "execution_count": 37,
   "metadata": {},
   "outputs": [],
   "source": [
    "y_pred3 = xgboost.predict(X_test)\n",
    "predictions = [round(value) for value in y_pred3]"
   ]
  },
  {
   "cell_type": "code",
   "execution_count": 38,
   "metadata": {},
   "outputs": [
    {
     "name": "stdout",
     "output_type": "stream",
     "text": [
      "\n",
      "Confusion matrix of the XGBoost model\n",
      "\n",
      "     pred_neg  pred_pos\n",
      "neg      1006        33\n",
      "pos       103        45\n",
      "\n",
      "Sensitivity:  0.3041\n",
      "Sensitivity / rate of occurence in sample:  2.4861\n",
      "Specificity:  0.9682\n"
     ]
    }
   ],
   "source": [
    "conf_mat_xgb = pd.DataFrame(confusion_matrix(y_test, y_pred3),columns=['pred_neg', 'pred_pos'], index=['neg', 'pos'])\n",
    "print('\\nConfusion matrix of the XGBoost model\\n')\n",
    "print(conf_mat_xgb)\n",
    "print('\\nSensitivity: ', round(conf_mat_xgb.pred_pos[1]/(conf_mat_xgb.pred_neg[1]+conf_mat_xgb.pred_pos[1]),4))\n",
    "print('Sensitivity / rate of occurence in sample: ', round(conf_mat_xgb.pred_pos[1]/(conf_mat_xgb.pred_neg[1]+conf_mat_xgb.pred_pos[1])/ROO,4))\n",
    "print('Specificity: ', round(conf_mat_xgb.pred_neg[0]/(conf_mat_xgb.pred_neg[0]+conf_mat_xgb.pred_pos[0]),4))"
   ]
  },
  {
   "cell_type": "code",
   "execution_count": 45,
   "metadata": {},
   "outputs": [
    {
     "data": {
      "image/png": "[encoded data removed]",
      "text/plain": [
       "<Figure size 432x288 with 1 Axes>"
      ]
     },
     "metadata": {
      "needs_background": "light"
     },
     "output_type": "display_data"
    }
   ],
   "source": [
    "plot_roc_curve(xgboost, X_test, y_test)\n",
    "plt.plot([0, 1], [0, 1],'r--')\n",
    "plt.title('ROC Curve of XGBoost Classifier')\n",
    "plt.show()"
   ]
  },
  {
   "cell_type": "code",
   "execution_count": null,
   "metadata": {},
   "outputs": [],
   "source": []
  },
  {
   "cell_type": "code",
   "execution_count": null,
   "metadata": {},
   "outputs": [],
   "source": []
  },
  {
   "cell_type": "code",
   "execution_count": null,
   "metadata": {},
   "outputs": [],
   "source": []
  },
  {
   "cell_type": "code",
   "execution_count": null,
   "metadata": {},
   "outputs": [],
   "source": []
  },
  {
   "cell_type": "code",
   "execution_count": null,
   "metadata": {},
   "outputs": [],
   "source": []
  },
  {
   "cell_type": "code",
   "execution_count": null,
   "metadata": {},
   "outputs": [],
   "source": []
  },
  {
   "cell_type": "code",
   "execution_count": null,
   "metadata": {},
   "outputs": [],
   "source": []
  },
  {
   "cell_type": "code",
   "execution_count": null,
   "metadata": {},
   "outputs": [],
   "source": []
  },
  {
   "cell_type": "code",
   "execution_count": null,
   "metadata": {},
   "outputs": [],
   "source": []
  },
  {
   "cell_type": "code",
   "execution_count": null,
   "metadata": {},
   "outputs": [],
   "source": []
  }
 ],
 "metadata": {
  "kernelspec": {
   "display_name": "Python 3",
   "language": "python",
   "name": "python3"
  },
  "language_info": {
   "codemirror_mode": {
    "name": "ipython",
    "version": 3
   },
   "file_extension": ".py",
   "mimetype": "text/x-python",
   "name": "python",
   "nbconvert_exporter": "python",
   "pygments_lexer": "ipython3",
   "version": "3.8.3"
  }
 },
 "nbformat": 4,
 "nbformat_minor": 4
}
