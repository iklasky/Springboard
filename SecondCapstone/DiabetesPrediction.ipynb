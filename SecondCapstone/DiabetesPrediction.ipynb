{
 "cells": [
  {
   "cell_type": "code",
   "execution_count": 1,
   "metadata": {},
   "outputs": [],
   "source": [
    "import numpy as np\n",
    "import pandas as pd\n",
    "import matplotlib.pyplot as plt\n",
    "import seaborn as sns"
   ]
  },
  {
   "cell_type": "code",
   "execution_count": 2,
   "metadata": {},
   "outputs": [
    {
     "data": {
      "text/html": [
       "<div>\n",
       "<style scoped>\n",
       "    .dataframe tbody tr th:only-of-type {\n",
       "        vertical-align: middle;\n",
       "    }\n",
       "\n",
       "    .dataframe tbody tr th {\n",
       "        vertical-align: top;\n",
       "    }\n",
       "\n",
       "    .dataframe thead th {\n",
       "        text-align: right;\n",
       "    }\n",
       "</style>\n",
       "<table border=\"1\" class=\"dataframe\">\n",
       "  <thead>\n",
       "    <tr style=\"text-align: right;\">\n",
       "      <th></th>\n",
       "      <th>SEQN</th>\n",
       "      <th>SDDSRVYR</th>\n",
       "      <th>RIDSTATR</th>\n",
       "      <th>RIAGENDR</th>\n",
       "      <th>RIDAGEYR</th>\n",
       "      <th>RIDAGEMN</th>\n",
       "      <th>RIDRETH1</th>\n",
       "      <th>RIDRETH3</th>\n",
       "      <th>RIDEXMON</th>\n",
       "      <th>RIDEXAGM</th>\n",
       "      <th>...</th>\n",
       "      <th>WHD080U</th>\n",
       "      <th>WHD080L</th>\n",
       "      <th>WHD110</th>\n",
       "      <th>WHD120</th>\n",
       "      <th>WHD130</th>\n",
       "      <th>WHD140</th>\n",
       "      <th>WHQ150</th>\n",
       "      <th>WHQ030M</th>\n",
       "      <th>WHQ500</th>\n",
       "      <th>WHQ520</th>\n",
       "    </tr>\n",
       "  </thead>\n",
       "  <tbody>\n",
       "    <tr>\n",
       "      <th>0</th>\n",
       "      <td>73557</td>\n",
       "      <td>8</td>\n",
       "      <td>2</td>\n",
       "      <td>1</td>\n",
       "      <td>69</td>\n",
       "      <td>NaN</td>\n",
       "      <td>4</td>\n",
       "      <td>4</td>\n",
       "      <td>1.0</td>\n",
       "      <td>NaN</td>\n",
       "      <td>...</td>\n",
       "      <td>NaN</td>\n",
       "      <td>40.0</td>\n",
       "      <td>270.0</td>\n",
       "      <td>200.0</td>\n",
       "      <td>69.0</td>\n",
       "      <td>270.0</td>\n",
       "      <td>62.0</td>\n",
       "      <td>NaN</td>\n",
       "      <td>NaN</td>\n",
       "      <td>NaN</td>\n",
       "    </tr>\n",
       "    <tr>\n",
       "      <th>1</th>\n",
       "      <td>73558</td>\n",
       "      <td>8</td>\n",
       "      <td>2</td>\n",
       "      <td>1</td>\n",
       "      <td>54</td>\n",
       "      <td>NaN</td>\n",
       "      <td>3</td>\n",
       "      <td>3</td>\n",
       "      <td>1.0</td>\n",
       "      <td>NaN</td>\n",
       "      <td>...</td>\n",
       "      <td>NaN</td>\n",
       "      <td>NaN</td>\n",
       "      <td>240.0</td>\n",
       "      <td>250.0</td>\n",
       "      <td>72.0</td>\n",
       "      <td>250.0</td>\n",
       "      <td>25.0</td>\n",
       "      <td>NaN</td>\n",
       "      <td>NaN</td>\n",
       "      <td>NaN</td>\n",
       "    </tr>\n",
       "    <tr>\n",
       "      <th>2</th>\n",
       "      <td>73559</td>\n",
       "      <td>8</td>\n",
       "      <td>2</td>\n",
       "      <td>1</td>\n",
       "      <td>72</td>\n",
       "      <td>NaN</td>\n",
       "      <td>3</td>\n",
       "      <td>3</td>\n",
       "      <td>2.0</td>\n",
       "      <td>NaN</td>\n",
       "      <td>...</td>\n",
       "      <td>NaN</td>\n",
       "      <td>NaN</td>\n",
       "      <td>180.0</td>\n",
       "      <td>190.0</td>\n",
       "      <td>70.0</td>\n",
       "      <td>228.0</td>\n",
       "      <td>35.0</td>\n",
       "      <td>NaN</td>\n",
       "      <td>NaN</td>\n",
       "      <td>NaN</td>\n",
       "    </tr>\n",
       "    <tr>\n",
       "      <th>3</th>\n",
       "      <td>73560</td>\n",
       "      <td>8</td>\n",
       "      <td>2</td>\n",
       "      <td>1</td>\n",
       "      <td>9</td>\n",
       "      <td>NaN</td>\n",
       "      <td>3</td>\n",
       "      <td>3</td>\n",
       "      <td>1.0</td>\n",
       "      <td>119.0</td>\n",
       "      <td>...</td>\n",
       "      <td>NaN</td>\n",
       "      <td>NaN</td>\n",
       "      <td>NaN</td>\n",
       "      <td>NaN</td>\n",
       "      <td>NaN</td>\n",
       "      <td>NaN</td>\n",
       "      <td>NaN</td>\n",
       "      <td>3.0</td>\n",
       "      <td>3.0</td>\n",
       "      <td>3.0</td>\n",
       "    </tr>\n",
       "    <tr>\n",
       "      <th>4</th>\n",
       "      <td>73561</td>\n",
       "      <td>8</td>\n",
       "      <td>2</td>\n",
       "      <td>2</td>\n",
       "      <td>73</td>\n",
       "      <td>NaN</td>\n",
       "      <td>3</td>\n",
       "      <td>3</td>\n",
       "      <td>1.0</td>\n",
       "      <td>NaN</td>\n",
       "      <td>...</td>\n",
       "      <td>NaN</td>\n",
       "      <td>NaN</td>\n",
       "      <td>150.0</td>\n",
       "      <td>135.0</td>\n",
       "      <td>67.0</td>\n",
       "      <td>170.0</td>\n",
       "      <td>60.0</td>\n",
       "      <td>NaN</td>\n",
       "      <td>NaN</td>\n",
       "      <td>NaN</td>\n",
       "    </tr>\n",
       "  </tbody>\n",
       "</table>\n",
       "<p>5 rows × 1000 columns</p>\n",
       "</div>"
      ],
      "text/plain": [
       "    SEQN  SDDSRVYR  RIDSTATR  RIAGENDR  RIDAGEYR  RIDAGEMN  RIDRETH1  \\\n",
       "0  73557         8         2         1        69       NaN         4   \n",
       "1  73558         8         2         1        54       NaN         3   \n",
       "2  73559         8         2         1        72       NaN         3   \n",
       "3  73560         8         2         1         9       NaN         3   \n",
       "4  73561         8         2         2        73       NaN         3   \n",
       "\n",
       "   RIDRETH3  RIDEXMON  RIDEXAGM  ...  WHD080U  WHD080L  WHD110  WHD120  \\\n",
       "0         4       1.0       NaN  ...      NaN     40.0   270.0   200.0   \n",
       "1         3       1.0       NaN  ...      NaN      NaN   240.0   250.0   \n",
       "2         3       2.0       NaN  ...      NaN      NaN   180.0   190.0   \n",
       "3         3       1.0     119.0  ...      NaN      NaN     NaN     NaN   \n",
       "4         3       1.0       NaN  ...      NaN      NaN   150.0   135.0   \n",
       "\n",
       "   WHD130  WHD140  WHQ150  WHQ030M  WHQ500  WHQ520  \n",
       "0    69.0   270.0    62.0      NaN     NaN     NaN  \n",
       "1    72.0   250.0    25.0      NaN     NaN     NaN  \n",
       "2    70.0   228.0    35.0      NaN     NaN     NaN  \n",
       "3     NaN     NaN     NaN      3.0     3.0     3.0  \n",
       "4    67.0   170.0    60.0      NaN     NaN     NaN  \n",
       "\n",
       "[5 rows x 1000 columns]"
      ]
     },
     "execution_count": 2,
     "metadata": {},
     "output_type": "execute_result"
    }
   ],
   "source": [
    "df1 = pd.read_csv('data/demographic.csv')\n",
    "df2 = pd.read_csv('data/questionnaire.csv')\n",
    "\n",
    "df = pd.concat([df1, df2], axis=1, join='inner')\n",
    "\n",
    "df.head()"
   ]
  },
  {
   "cell_type": "code",
   "execution_count": 3,
   "metadata": {},
   "outputs": [
    {
     "data": {
      "image/png": "[encoded data removed]",
      "text/plain": [
       "<Figure size 432x288 with 1 Axes>"
      ]
     },
     "metadata": {
      "needs_background": "light"
     },
     "output_type": "display_data"
    }
   ],
   "source": [
    "nas=pd.DataFrame(df.isnull().sum().sort_values(ascending=False)/len(df),columns = ['percent missing'])\n",
    "pos = nas['percent missing'] > 0\n",
    "nas[pos]\n",
    "nas.hist(bins = 20)\n",
    "acceptable_feats = nas.loc[nas['percent missing'] < 0.2]\n",
    "list_acceptable_feats = list(acceptable_feats.index)"
   ]
  },
  {
   "cell_type": "code",
   "execution_count": 4,
   "metadata": {},
   "outputs": [
    {
     "name": "stdout",
     "output_type": "stream",
     "text": [
      "Shape of DataFrame with all data:  (10175, 1000)\n",
      "Shape of DataFrame with only 20 year olds and older:  (5769, 1000)\n"
     ]
    }
   ],
   "source": [
    "print('Shape of DataFrame with all data: ', df.shape)\n",
    "df = df.loc[(df.RIDAGEYR >= 20)]\n",
    "#df2 = df1#[df1.columns[df1.isna().sum() < 1000]]\n",
    "print('Shape of DataFrame with only 20 year olds and older: ', df.shape)"
   ]
  },
  {
   "cell_type": "code",
   "execution_count": 5,
   "metadata": {},
   "outputs": [
    {
     "data": {
      "image/png": "[encoded data removed]",
      "text/plain": [
       "<Figure size 432x288 with 1 Axes>"
      ]
     },
     "metadata": {
      "needs_background": "light"
     },
     "output_type": "display_data"
    }
   ],
   "source": [
    "nas=pd.DataFrame(df.isnull().sum().sort_values(ascending=False)/len(df),columns = ['percent missing'])\n",
    "pos = nas['percent missing'] > 0\n",
    "nas[pos]\n",
    "nas.hist(bins = 20)\n",
    "acceptable_feats = nas.loc[nas['percent missing'] < 0.2]\n",
    "list_acceptable_feats = list(acceptable_feats.index)"
   ]
  },
  {
   "cell_type": "code",
   "execution_count": 6,
   "metadata": {
    "scrolled": false
   },
   "outputs": [
    {
     "name": "stdout",
     "output_type": "stream",
     "text": [
      "DIQ010      1.000000\n",
      "DIQ160      0.366512\n",
      "DIQ050      0.339186\n",
      "MCQ365D     0.178347\n",
      "RIDAGEYR    0.172404\n",
      "              ...   \n",
      "OHQ835      0.001132\n",
      "FSDHH       0.000851\n",
      "MIAINTRP    0.000617\n",
      "CBQ535      0.000106\n",
      "OHQ770      0.000021\n",
      "Name: DIQ010, Length: 215, dtype: float64\n"
     ]
    }
   ],
   "source": [
    "c = df[list_acceptable_feats].corr().abs()\n",
    "dc = c['DIQ010'].dropna().sort_values(kind=\"quicksort\", ascending=False)\n",
    "\n",
    "#with pd.option_context('display.max_rows', None, 'display.max_columns', None):  # more options can be specified also\n",
    "print(dc)"
   ]
  },
  {
   "cell_type": "code",
   "execution_count": 7,
   "metadata": {},
   "outputs": [
    {
     "name": "stdout",
     "output_type": "stream",
     "text": [
      "Percentage of survey responders with diabetes:  0.1290437890974084\n"
     ]
    }
   ],
   "source": [
    "df = df[list_acceptable_feats]\n",
    "df = df[df['DIQ010'].notna()]\n",
    "df = df[df['DIQ010'] != 3]\n",
    "print(\"Percentage of survey responders with diabetes: \", df[df['DIQ010'] == 1].shape[0]/df.shape[0])"
   ]
  },
  {
   "cell_type": "code",
   "execution_count": 8,
   "metadata": {},
   "outputs": [
    {
     "data": {
      "text/plain": [
       "<matplotlib.axes._subplots.AxesSubplot at 0x121f03f70>"
      ]
     },
     "execution_count": 8,
     "metadata": {},
     "output_type": "execute_result"
    },
    {
     "data": {
      "image/png": "[encoded data removed]",
      "text/plain": [
       "<Figure size 432x288 with 1 Axes>"
      ]
     },
     "metadata": {
      "needs_background": "light"
     },
     "output_type": "display_data"
    }
   ],
   "source": [
    "df['DIQ010'].hist()"
   ]
  },
  {
   "cell_type": "code",
   "execution_count": 9,
   "metadata": {},
   "outputs": [],
   "source": [
    "# #feature creation for has smoked and drank\n",
    "# new_col = []\n",
    "# for row_num in range(df3.shape[0]):\n",
    "#     if df3.iloc[row_num]['ALQ101'] == 1 and df3.iloc[row_num]['SMQ020'] == 1:\n",
    "#         new_col.append(1)\n",
    "#     else:\n",
    "#         new_col.append(0)\n",
    "# smoke_drink = pd.Series(new_col)\n",
    "# if 'smoke_drink' not in df3.columns:\n",
    "#     df3.insert(0, \"smoke_drink\", smoke_drink)\n",
    "# df3.head()\n",
    "\n",
    "# #feature creation for takeout/groceries\n",
    "# new_col = []\n",
    "# for row_num in range(df3.shape[0]):\n",
    "#     if (df3.iloc[row_num]['CBD070'] != (999999) and df3.iloc[row_num]['CBD070'] != (777777)) and (df3.iloc[row_num]['CBD130'] != (999999) and df3.iloc[row_num]['CBD130'] != (777777)):\n",
    "#         new_col.append(df3.iloc[row_num]['CBD130']/(df3.iloc[row_num]['CBD070']+0.01))\n",
    "#     else:\n",
    "#         new_col.append(np.nan)\n",
    "# takeout_groceries = pd.Series(new_col)\n",
    "# if 'takeout_groceries' not in df3.columns:\n",
    "#     df3.insert(0, \"takeout_groceries\", takeout_groceries)\n",
    "# df3.head()\n",
    "# df3['takeout_groceries'].max()"
   ]
  },
  {
   "cell_type": "code",
   "execution_count": 10,
   "metadata": {},
   "outputs": [
    {
     "name": "stdout",
     "output_type": "stream",
     "text": [
      "Before imputation:  43817 missing\n",
      "After imputation:  0 missing\n",
      "runtime:  0.5237078666687012\n"
     ]
    }
   ],
   "source": [
    "from sklearn.impute import KNNImputer\n",
    "import time\n",
    "\n",
    "tic = time.time()\n",
    "\n",
    "col_names = list(df.columns)\n",
    "\n",
    "print('Before imputation: ', df.isnull().sum().sum(), 'missing')\n",
    "\n",
    "#fill na's with medians\n",
    "for col in df.columns:\n",
    "    df[col] = df[col].fillna((df[col].median()))\n",
    "    \n",
    "#fill na's using KNN\n",
    "#imputer = KNNImputer(n_neighbors=3)\n",
    "#df = pd.DataFrame(imputer.fit_transform(df))\n",
    "      \n",
    "print('After imputation: ', df.isnull().sum().sum(), 'missing')\n",
    "\n",
    "df.columns = col_names\n",
    "\n",
    "toc = time.time()\n",
    "print('runtime: ',toc-tic)"
   ]
  },
  {
   "cell_type": "code",
   "execution_count": 11,
   "metadata": {},
   "outputs": [
    {
     "name": "stdout",
     "output_type": "stream",
     "text": [
      "Shape of DataFrame before dropping unwanted features:  (5595, 221)\n",
      "Shape of DataFrame after dropping unwanted features:  (5595, 216)\n",
      "DIQ010      1.000000\n",
      "MCQ365D     0.249648\n",
      "RIDAGEYR    0.243945\n",
      "MCQ365A     0.239043\n",
      "MCQ365B     0.230617\n",
      "MCQ365C     0.220439\n",
      "Name: DIQ010, dtype: float64\n"
     ]
    }
   ],
   "source": [
    "print('Shape of DataFrame before dropping unwanted features: ', df.shape)\n",
    "remove_list = ['DIQ160', 'DIQ050', 'DIQ180', 'DIQ172', 'DIQ170']#, 'SLQ060', 'SIAPROXY', 'HUQ010', 'HUQ010', 'DMDHRAGE', 'DLQ060', 'RIDAGEYR', 'DLQ050', 'WTINT2YR', 'WTMEC2YR']\n",
    "keep_list = set(df.columns) - set(remove_list)\n",
    "df = df[keep_list]\n",
    "prefix_list = []#['MCQ','HUQ','BPQ','PFQ','DLQ','HSD', 'OHQ', 'WHQ', 'SEQN', 'DPQ', 'HIQ', 'HSQ', 'WHD', 'DMD', 'DBQ']\n",
    "df = df.loc[:,~df.columns.str.startswith(tuple(prefix_list))]\n",
    "print('Shape of DataFrame after dropping unwanted features: ', df.shape)\n",
    "\n",
    "c1 = df.corr().abs()\n",
    "dc1 = c1['DIQ010'].dropna().sort_values(kind=\"quicksort\", ascending=False)\n",
    "\n",
    "df = df[list(dc1.index)[:6]]\n",
    "\n",
    "with pd.option_context('display.max_rows', None, 'display.max_columns', None):  # more options can be specified also\n",
    "    print(dc1[:6])"
   ]
  },
  {
   "cell_type": "code",
   "execution_count": 12,
   "metadata": {},
   "outputs": [],
   "source": [
    "from sklearn import preprocessing\n",
    "\n",
    "X = df.drop('DIQ010', 1)\n",
    "y = df['DIQ010']\n",
    "\n",
    "#Dummy variables\n",
    "dummy_list = []\n",
    "for col in df.drop('DIQ010', 1).columns:\n",
    "    if df[col].max() <= 99:\n",
    "        dummy_list.append(col)\n",
    "X = pd.get_dummies(X, prefix=dummy_list, columns=dummy_list)\n",
    "\n",
    "# Here we use the StandardScaler() method of the preprocessing package, and then call the fit() method with parameter X \n",
    "scaler = preprocessing.StandardScaler().fit(X)\n",
    "\n",
    "# Declare a variable called X_scaled, and assign it the result of calling the transform() method with parameter X \n",
    "X_scaled=scaler.transform(X)\n",
    "\n",
    "# Get the 1-dimensional flattened array of our response variable y by calling the ravel() function on y\n",
    "y = y.ravel()"
   ]
  },
  {
   "cell_type": "code",
   "execution_count": 13,
   "metadata": {},
   "outputs": [],
   "source": [
    "from sklearn.model_selection import train_test_split\n",
    "\n",
    "# Call the train_test_split() function with the first two parameters set to X_scaled and y \n",
    "# Declare four variables, X_train, X_test, y_train and y_test separated by commas \n",
    "X_train, X_test, y_train, y_test = train_test_split(X_scaled, y, test_size=0.99, random_state=1)"
   ]
  },
  {
   "cell_type": "code",
   "execution_count": 14,
   "metadata": {},
   "outputs": [
    {
     "name": "stdout",
     "output_type": "stream",
     "text": [
      "[2. 2. 1. ... 2. 2. 2.]\n",
      "0.8299638989169675\n",
      "runtime:  0.14403986930847168\n"
     ]
    }
   ],
   "source": [
    "import time\n",
    "from sklearn.metrics import accuracy_score\n",
    "from sklearn.ensemble import RandomForestClassifier\n",
    "\n",
    "tic = time.time()\n",
    "\n",
    "# Initialize our classifier\n",
    "clf = RandomForestClassifier(max_depth=100, n_estimators=60, max_features=60)\n",
    "\n",
    "# Train our classifier\n",
    "model = clf.fit(X_train, y_train)\n",
    "\n",
    "# Make predictions\n",
    "preds = clf.predict(X_test)\n",
    "print(preds)\n",
    "\n",
    "# Evaluate accuracy\n",
    "print(accuracy_score(y_test, preds))\n",
    "\n",
    "toc = time.time()\n",
    "print('runtime: ',toc-tic)"
   ]
  },
  {
   "cell_type": "code",
   "execution_count": 15,
   "metadata": {},
   "outputs": [
    {
     "data": {
      "text/plain": [
       "<matplotlib.axes._subplots.AxesSubplot at 0x12322b2e0>"
      ]
     },
     "execution_count": 15,
     "metadata": {},
     "output_type": "execute_result"
    },
    {
     "data": {
      "image/png": "[encoded data removed]",
      "text/plain": [
       "<Figure size 432x288 with 1 Axes>"
      ]
     },
     "metadata": {
      "needs_background": "light"
     },
     "output_type": "display_data"
    }
   ],
   "source": [
    "pd.Series(preds).hist()"
   ]
  },
  {
   "cell_type": "code",
   "execution_count": 16,
   "metadata": {},
   "outputs": [
    {
     "data": {
      "text/html": [
       "<div>\n",
       "<style scoped>\n",
       "    .dataframe tbody tr th:only-of-type {\n",
       "        vertical-align: middle;\n",
       "    }\n",
       "\n",
       "    .dataframe tbody tr th {\n",
       "        vertical-align: top;\n",
       "    }\n",
       "\n",
       "    .dataframe thead th {\n",
       "        text-align: right;\n",
       "    }\n",
       "</style>\n",
       "<table border=\"1\" class=\"dataframe\">\n",
       "  <thead>\n",
       "    <tr style=\"text-align: right;\">\n",
       "      <th></th>\n",
       "      <th>y_test</th>\n",
       "      <th>preds</th>\n",
       "    </tr>\n",
       "  </thead>\n",
       "  <tbody>\n",
       "    <tr>\n",
       "      <th>0</th>\n",
       "      <td>1.0</td>\n",
       "      <td>2.0</td>\n",
       "    </tr>\n",
       "    <tr>\n",
       "      <th>1</th>\n",
       "      <td>2.0</td>\n",
       "      <td>2.0</td>\n",
       "    </tr>\n",
       "    <tr>\n",
       "      <th>2</th>\n",
       "      <td>1.0</td>\n",
       "      <td>1.0</td>\n",
       "    </tr>\n",
       "    <tr>\n",
       "      <th>3</th>\n",
       "      <td>2.0</td>\n",
       "      <td>2.0</td>\n",
       "    </tr>\n",
       "    <tr>\n",
       "      <th>4</th>\n",
       "      <td>2.0</td>\n",
       "      <td>2.0</td>\n",
       "    </tr>\n",
       "  </tbody>\n",
       "</table>\n",
       "</div>"
      ],
      "text/plain": [
       "   y_test  preds\n",
       "0     1.0    2.0\n",
       "1     2.0    2.0\n",
       "2     1.0    1.0\n",
       "3     2.0    2.0\n",
       "4     2.0    2.0"
      ]
     },
     "execution_count": 16,
     "metadata": {},
     "output_type": "execute_result"
    }
   ],
   "source": [
    "results = pd.DataFrame(y_test)\n",
    "results.columns = ['y_test']\n",
    "results['preds'] = preds\n",
    "results.head()"
   ]
  },
  {
   "cell_type": "code",
   "execution_count": 17,
   "metadata": {},
   "outputs": [
    {
     "name": "stdout",
     "output_type": "stream",
     "text": [
      "Sensitivity:  0.22849083215796898\n",
      "Specificity:  0.9188069594034797\n"
     ]
    }
   ],
   "source": [
    "true_pos = 0\n",
    "true_neg = 0\n",
    "\n",
    "for i in range(results.shape[0]):\n",
    "    if results.iloc[i][0] == 1 and results.iloc[i][1] == 1:\n",
    "        true_pos += 1\n",
    "    elif results.iloc[i][0] == 2 and results.iloc[i][1] == 2:\n",
    "        true_neg += 1\n",
    "\n",
    "print('Sensitivity: ', true_pos/results[results.y_test ==  1].shape[0])\n",
    "print('Specificity: ', true_neg/results[results.y_test ==  2].shape[0])"
   ]
  },
  {
   "cell_type": "code",
   "execution_count": null,
   "metadata": {},
   "outputs": [],
   "source": []
  }
 ],
 "metadata": {
  "kernelspec": {
   "display_name": "Python 3",
   "language": "python",
   "name": "python3"
  },
  "language_info": {
   "codemirror_mode": {
    "name": "ipython",
    "version": 3
   },
   "file_extension": ".py",
   "mimetype": "text/x-python",
   "name": "python",
   "nbconvert_exporter": "python",
   "pygments_lexer": "ipython3",
   "version": "3.8.3"
  }
 },
 "nbformat": 4,
 "nbformat_minor": 4
}
