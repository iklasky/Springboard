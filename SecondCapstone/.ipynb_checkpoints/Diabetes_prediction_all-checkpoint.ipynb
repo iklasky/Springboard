{
 "cells": [
  {
   "cell_type": "code",
   "execution_count": 1,
   "metadata": {},
   "outputs": [],
   "source": [
    "import numpy as np\n",
    "import pandas as pd\n",
    "import matplotlib.pyplot as plt\n",
    "import seaborn as sns"
   ]
  },
  {
   "cell_type": "code",
   "execution_count": 2,
   "metadata": {},
   "outputs": [
    {
     "data": {
      "text/html": [
       "<div>\n",
       "<style scoped>\n",
       "    .dataframe tbody tr th:only-of-type {\n",
       "        vertical-align: middle;\n",
       "    }\n",
       "\n",
       "    .dataframe tbody tr th {\n",
       "        vertical-align: top;\n",
       "    }\n",
       "\n",
       "    .dataframe thead th {\n",
       "        text-align: right;\n",
       "    }\n",
       "</style>\n",
       "<table border=\"1\" class=\"dataframe\">\n",
       "  <thead>\n",
       "    <tr style=\"text-align: right;\">\n",
       "      <th></th>\n",
       "      <th>SEQN</th>\n",
       "      <th>SDDSRVYR</th>\n",
       "      <th>RIDSTATR</th>\n",
       "      <th>RIAGENDR</th>\n",
       "      <th>RIDAGEYR</th>\n",
       "      <th>RIDAGEMN</th>\n",
       "      <th>RIDRETH1</th>\n",
       "      <th>RIDRETH3</th>\n",
       "      <th>RIDEXMON</th>\n",
       "      <th>RIDEXAGM</th>\n",
       "      <th>...</th>\n",
       "      <th>WHD080U</th>\n",
       "      <th>WHD080L</th>\n",
       "      <th>WHD110</th>\n",
       "      <th>WHD120</th>\n",
       "      <th>WHD130</th>\n",
       "      <th>WHD140</th>\n",
       "      <th>WHQ150</th>\n",
       "      <th>WHQ030M</th>\n",
       "      <th>WHQ500</th>\n",
       "      <th>WHQ520</th>\n",
       "    </tr>\n",
       "  </thead>\n",
       "  <tbody>\n",
       "    <tr>\n",
       "      <th>0</th>\n",
       "      <td>73557</td>\n",
       "      <td>8</td>\n",
       "      <td>2</td>\n",
       "      <td>1</td>\n",
       "      <td>69</td>\n",
       "      <td>NaN</td>\n",
       "      <td>4</td>\n",
       "      <td>4</td>\n",
       "      <td>1.0</td>\n",
       "      <td>NaN</td>\n",
       "      <td>...</td>\n",
       "      <td>NaN</td>\n",
       "      <td>40.0</td>\n",
       "      <td>270.0</td>\n",
       "      <td>200.0</td>\n",
       "      <td>69.0</td>\n",
       "      <td>270.0</td>\n",
       "      <td>62.0</td>\n",
       "      <td>NaN</td>\n",
       "      <td>NaN</td>\n",
       "      <td>NaN</td>\n",
       "    </tr>\n",
       "    <tr>\n",
       "      <th>1</th>\n",
       "      <td>73558</td>\n",
       "      <td>8</td>\n",
       "      <td>2</td>\n",
       "      <td>1</td>\n",
       "      <td>54</td>\n",
       "      <td>NaN</td>\n",
       "      <td>3</td>\n",
       "      <td>3</td>\n",
       "      <td>1.0</td>\n",
       "      <td>NaN</td>\n",
       "      <td>...</td>\n",
       "      <td>NaN</td>\n",
       "      <td>NaN</td>\n",
       "      <td>240.0</td>\n",
       "      <td>250.0</td>\n",
       "      <td>72.0</td>\n",
       "      <td>250.0</td>\n",
       "      <td>25.0</td>\n",
       "      <td>NaN</td>\n",
       "      <td>NaN</td>\n",
       "      <td>NaN</td>\n",
       "    </tr>\n",
       "    <tr>\n",
       "      <th>2</th>\n",
       "      <td>73559</td>\n",
       "      <td>8</td>\n",
       "      <td>2</td>\n",
       "      <td>1</td>\n",
       "      <td>72</td>\n",
       "      <td>NaN</td>\n",
       "      <td>3</td>\n",
       "      <td>3</td>\n",
       "      <td>2.0</td>\n",
       "      <td>NaN</td>\n",
       "      <td>...</td>\n",
       "      <td>NaN</td>\n",
       "      <td>NaN</td>\n",
       "      <td>180.0</td>\n",
       "      <td>190.0</td>\n",
       "      <td>70.0</td>\n",
       "      <td>228.0</td>\n",
       "      <td>35.0</td>\n",
       "      <td>NaN</td>\n",
       "      <td>NaN</td>\n",
       "      <td>NaN</td>\n",
       "    </tr>\n",
       "    <tr>\n",
       "      <th>3</th>\n",
       "      <td>73560</td>\n",
       "      <td>8</td>\n",
       "      <td>2</td>\n",
       "      <td>1</td>\n",
       "      <td>9</td>\n",
       "      <td>NaN</td>\n",
       "      <td>3</td>\n",
       "      <td>3</td>\n",
       "      <td>1.0</td>\n",
       "      <td>119.0</td>\n",
       "      <td>...</td>\n",
       "      <td>NaN</td>\n",
       "      <td>NaN</td>\n",
       "      <td>NaN</td>\n",
       "      <td>NaN</td>\n",
       "      <td>NaN</td>\n",
       "      <td>NaN</td>\n",
       "      <td>NaN</td>\n",
       "      <td>3.0</td>\n",
       "      <td>3.0</td>\n",
       "      <td>3.0</td>\n",
       "    </tr>\n",
       "    <tr>\n",
       "      <th>4</th>\n",
       "      <td>73561</td>\n",
       "      <td>8</td>\n",
       "      <td>2</td>\n",
       "      <td>2</td>\n",
       "      <td>73</td>\n",
       "      <td>NaN</td>\n",
       "      <td>3</td>\n",
       "      <td>3</td>\n",
       "      <td>1.0</td>\n",
       "      <td>NaN</td>\n",
       "      <td>...</td>\n",
       "      <td>NaN</td>\n",
       "      <td>NaN</td>\n",
       "      <td>150.0</td>\n",
       "      <td>135.0</td>\n",
       "      <td>67.0</td>\n",
       "      <td>170.0</td>\n",
       "      <td>60.0</td>\n",
       "      <td>NaN</td>\n",
       "      <td>NaN</td>\n",
       "      <td>NaN</td>\n",
       "    </tr>\n",
       "  </tbody>\n",
       "</table>\n",
       "<p>5 rows × 1000 columns</p>\n",
       "</div>"
      ],
      "text/plain": [
       "    SEQN  SDDSRVYR  RIDSTATR  RIAGENDR  RIDAGEYR  RIDAGEMN  RIDRETH1  \\\n",
       "0  73557         8         2         1        69       NaN         4   \n",
       "1  73558         8         2         1        54       NaN         3   \n",
       "2  73559         8         2         1        72       NaN         3   \n",
       "3  73560         8         2         1         9       NaN         3   \n",
       "4  73561         8         2         2        73       NaN         3   \n",
       "\n",
       "   RIDRETH3  RIDEXMON  RIDEXAGM  ...  WHD080U  WHD080L  WHD110  WHD120  \\\n",
       "0         4       1.0       NaN  ...      NaN     40.0   270.0   200.0   \n",
       "1         3       1.0       NaN  ...      NaN      NaN   240.0   250.0   \n",
       "2         3       2.0       NaN  ...      NaN      NaN   180.0   190.0   \n",
       "3         3       1.0     119.0  ...      NaN      NaN     NaN     NaN   \n",
       "4         3       1.0       NaN  ...      NaN      NaN   150.0   135.0   \n",
       "\n",
       "   WHD130  WHD140  WHQ150  WHQ030M  WHQ500  WHQ520  \n",
       "0    69.0   270.0    62.0      NaN     NaN     NaN  \n",
       "1    72.0   250.0    25.0      NaN     NaN     NaN  \n",
       "2    70.0   228.0    35.0      NaN     NaN     NaN  \n",
       "3     NaN     NaN     NaN      3.0     3.0     3.0  \n",
       "4    67.0   170.0    60.0      NaN     NaN     NaN  \n",
       "\n",
       "[5 rows x 1000 columns]"
      ]
     },
     "execution_count": 2,
     "metadata": {},
     "output_type": "execute_result"
    }
   ],
   "source": [
    "df1 = pd.read_csv('data/demographic.csv')\n",
    "df2 = pd.read_csv('data/questionnaire.csv')\n",
    "\n",
    "df = pd.concat([df1, df2], axis=1, join='inner')\n",
    "\n",
    "df.head()"
   ]
  },
  {
   "cell_type": "code",
   "execution_count": 3,
   "metadata": {},
   "outputs": [
    {
     "data": {
      "image/png": "[encoded data removed]",
      "text/plain": [
       "<Figure size 432x288 with 1 Axes>"
      ]
     },
     "metadata": {
      "needs_background": "light"
     },
     "output_type": "display_data"
    }
   ],
   "source": [
    "nas=pd.DataFrame(df.isnull().sum().sort_values(ascending=False)/len(df),columns = ['percent missing'])\n",
    "pos = nas['percent missing'] > 0\n",
    "nas[pos]\n",
    "nas.hist(bins = 20)\n",
    "acceptable_feats = nas.loc[nas['percent missing'] < 0.2]\n",
    "list_acceptable_feats = list(acceptable_feats.index)"
   ]
  },
  {
   "cell_type": "code",
   "execution_count": 6,
   "metadata": {},
   "outputs": [
    {
     "name": "stdout",
     "output_type": "stream",
     "text": [
      "DIQ010      1.000000\n",
      "DIQ050      0.361999\n",
      "RIDAGEYR    0.199279\n",
      "DMDHRAGE    0.154092\n",
      "DMDHHSZE    0.151218\n",
      "              ...   \n",
      "DMDHRBR4    0.002154\n",
      "CBD090      0.001647\n",
      "RIAGENDR    0.001409\n",
      "INQ140      0.001013\n",
      "FSD151      0.000307\n",
      "Name: DIQ010, Length: 112, dtype: float64\n"
     ]
    }
   ],
   "source": [
    "c = df[list_acceptable_feats].corr().abs()\n",
    "dc = c['DIQ010'].dropna().sort_values(kind=\"quicksort\", ascending=False)\n",
    "\n",
    "#with pd.option_context('display.max_rows', None, 'display.max_columns', None):  # more options can be specified also\n",
    "print(dc)"
   ]
  },
  {
   "cell_type": "code",
   "execution_count": 7,
   "metadata": {},
   "outputs": [
    {
     "name": "stdout",
     "output_type": "stream",
     "text": [
      "Percentage of survey responders with diabetes:  0.07694717059929004\n"
     ]
    }
   ],
   "source": [
    "df = df[list_acceptable_feats]\n",
    "df = df[df['DIQ010'].notna()]\n",
    "df = df[df['DIQ010'] != 3]\n",
    "df = df[df['DIQ010'] != 7]\n",
    "df = df[df['DIQ010'] != 9]\n",
    "ROO = df[df['DIQ010'] == 1].shape[0]/df.shape[0]\n",
    "print(\"Percentage of survey responders with diabetes: \", ROO)"
   ]
  },
  {
   "cell_type": "code",
   "execution_count": 8,
   "metadata": {},
   "outputs": [
    {
     "data": {
      "text/plain": [
       "<matplotlib.axes._subplots.AxesSubplot at 0x121c25e80>"
      ]
     },
     "execution_count": 8,
     "metadata": {},
     "output_type": "execute_result"
    },
    {
     "data": {
      "image/png": "[encoded data removed]",
      "text/plain": [
       "<Figure size 432x288 with 1 Axes>"
      ]
     },
     "metadata": {
      "needs_background": "light"
     },
     "output_type": "display_data"
    }
   ],
   "source": [
    "df['DIQ010'].hist()"
   ]
  },
  {
   "cell_type": "code",
   "execution_count": 9,
   "metadata": {},
   "outputs": [
    {
     "name": "stdout",
     "output_type": "stream",
     "text": [
      "Before imputation:  33931 missing\n",
      "After imputation:  0 missing\n",
      "runtime:  0.30808496475219727\n"
     ]
    }
   ],
   "source": [
    "from sklearn.impute import KNNImputer\n",
    "import time\n",
    "\n",
    "tic = time.time()\n",
    "\n",
    "col_names = list(df.columns)\n",
    "\n",
    "print('Before imputation: ', df.isnull().sum().sum(), 'missing')\n",
    "\n",
    "#fill na's with medians\n",
    "for col in df.columns:\n",
    "    df[col] = df[col].fillna((df[col].median()))\n",
    "    \n",
    "#fill na's using KNN\n",
    "#imputer = KNNImputer(n_neighbors=3)\n",
    "#df = pd.DataFrame(imputer.fit_transform(df))\n",
    "      \n",
    "print('After imputation: ', df.isnull().sum().sum(), 'missing')\n",
    "\n",
    "df.columns = col_names\n",
    "\n",
    "toc = time.time()\n",
    "print('runtime: ',toc-tic)"
   ]
  },
  {
   "cell_type": "code",
   "execution_count": 10,
   "metadata": {},
   "outputs": [
    {
     "name": "stdout",
     "output_type": "stream",
     "text": [
      "Shape of DataFrame before dropping unwanted features:  (9578, 113)\n",
      "Shape of DataFrame after dropping unwanted features:  (9578, 112)\n",
      "DIQ010      1.000000\n",
      "RIDAGEYR    0.338776\n",
      "HUQ010      0.264440\n",
      "DMDHRAGE    0.255971\n",
      "DMDHHSZE    0.253578\n",
      "DLQ050      0.218894\n",
      "SIAPROXY    0.189995\n",
      "Name: DIQ010, dtype: float64\n"
     ]
    }
   ],
   "source": [
    "print('Shape of DataFrame before dropping unwanted features: ', df.shape)\n",
    "remove_list = ['DIQ160', 'DIQ050', 'DIQ180', 'DIQ172', 'DIQ170']#, 'SLQ060', 'SIAPROXY', 'HUQ010', 'HUQ010', 'DMDHRAGE', 'DLQ060', 'RIDAGEYR', 'DLQ050', 'WTINT2YR', 'WTMEC2YR']\n",
    "keep_list = set(df.columns) - set(remove_list)\n",
    "df = df[keep_list]\n",
    "prefix_list = []#['MCQ','HUQ','BPQ','PFQ','DLQ','HSD', 'OHQ', 'WHQ', 'SEQN', 'DPQ', 'HIQ', 'HSQ', 'WHD', 'DMD', 'DBQ']\n",
    "df = df.loc[:,~df.columns.str.startswith(tuple(prefix_list))]\n",
    "print('Shape of DataFrame after dropping unwanted features: ', df.shape)\n",
    "\n",
    "c1 = df.corr().abs()\n",
    "dc1 = c1['DIQ010'].dropna().sort_values(kind=\"quicksort\", ascending=False)\n",
    "\n",
    "df = df[list(dc1.index)[:7]]\n",
    "\n",
    "with pd.option_context('display.max_rows', None, 'display.max_columns', None):  # more options can be specified also\n",
    "    print(dc1[:7])"
   ]
  },
  {
   "cell_type": "code",
   "execution_count": 11,
   "metadata": {},
   "outputs": [],
   "source": [
    "from sklearn import preprocessing\n",
    "\n",
    "df['DIQ010'] = df['DIQ010'].replace({2:0})\n",
    "\n",
    "X = df.drop('DIQ010',axis=1)\n",
    "y = df['DIQ010']\n",
    "\n",
    "#Dummy variables\n",
    "dummy_list = []\n",
    "for col in df.drop('DIQ010', 1).columns:\n",
    "    if df[col].max() <= 99 and df[col].max() != 80:\n",
    "        dummy_list.append(col)\n",
    "X = pd.get_dummies(X, prefix=dummy_list, columns=dummy_list)\n",
    "\n",
    "# Here we use the StandardScaler() method of the preprocessing package, and then call the fit() method with parameter X \n",
    "scaler = preprocessing.StandardScaler().fit(X)\n",
    "\n",
    "# Declare a variable called X_scaled, and assign it the result of calling the transform() method with parameter X \n",
    "X_scaled=scaler.transform(X)\n",
    "\n",
    "# Get the 1-dimensional flattened array of our response variable y by calling the ravel() function on y\n",
    "y = y.ravel()"
   ]
  },
  {
   "cell_type": "code",
   "execution_count": 12,
   "metadata": {},
   "outputs": [],
   "source": [
    "from sklearn.model_selection import train_test_split\n",
    "\n",
    "# Call the train_test_split() function with the first two parameters set to X_scaled and y \n",
    "# Declare four variables, X_train, X_test, y_train and y_test separated by commas \n",
    "X_train, X_test, y_train, y_test = train_test_split(X, y, test_size=0.25, random_state=1)"
   ]
  },
  {
   "cell_type": "code",
   "execution_count": 13,
   "metadata": {},
   "outputs": [
    {
     "name": "stderr",
     "output_type": "stream",
     "text": [
      "/Library/Frameworks/Python.framework/Versions/3.8/lib/python3.8/site-packages/sklearn/linear_model/_logistic.py:762: ConvergenceWarning: lbfgs failed to converge (status=1):\n",
      "STOP: TOTAL NO. of ITERATIONS REACHED LIMIT.\n",
      "\n",
      "Increase the number of iterations (max_iter) or scale the data as shown in:\n",
      "    https://scikit-learn.org/stable/modules/preprocessing.html\n",
      "Please also refer to the documentation for alternative solver options:\n",
      "    https://scikit-learn.org/stable/modules/linear_model.html#logistic-regression\n",
      "  n_iter_i = _check_optimize_result(\n"
     ]
    },
    {
     "data": {
      "text/plain": [
       "LogisticRegression()"
      ]
     },
     "execution_count": 13,
     "metadata": {},
     "output_type": "execute_result"
    }
   ],
   "source": [
    "from sklearn.linear_model import LogisticRegression\n",
    "from sklearn import metrics\n",
    "logreg = LogisticRegression()\n",
    "logreg.fit(X_train, y_train)"
   ]
  },
  {
   "cell_type": "code",
   "execution_count": 14,
   "metadata": {},
   "outputs": [],
   "source": [
    "y_pred_lm = logreg.predict(X_test)"
   ]
  },
  {
   "cell_type": "code",
   "execution_count": 15,
   "metadata": {},
   "outputs": [],
   "source": [
    "import sklearn.metrics as metrics\n",
    "# calculate the fpr and tpr for all thresholds of the classification\n",
    "fpr, tpr, threshold = metrics.roc_curve(y_test, y_pred_lm)\n",
    "roc_auc = metrics.auc(fpr, tpr)"
   ]
  },
  {
   "cell_type": "code",
   "execution_count": 16,
   "metadata": {},
   "outputs": [
    {
     "data": {
      "image/png": "[encoded data removed]",
      "text/plain": [
       "<Figure size 432x288 with 1 Axes>"
      ]
     },
     "metadata": {
      "needs_background": "light"
     },
     "output_type": "display_data"
    }
   ],
   "source": [
    "from sklearn.metrics import roc_auc_score\n",
    "from sklearn.metrics import roc_curve\n",
    "logit_roc_auc = roc_auc_score(y_test, logreg.predict(X_test))\n",
    "fpr, tpr, thresholds = roc_curve(y_test, logreg.predict_proba(X_test)[:,1])\n",
    "plt.figure()\n",
    "plt.plot(fpr, tpr, label='Logistic Regression (area = %0.2f)' % logit_roc_auc)\n",
    "plt.plot([0, 1], [0, 1],'r--')\n",
    "plt.xlim([0.0, 1.0])\n",
    "plt.ylim([0.0, 1.05])\n",
    "plt.xlabel('False Positive Rate')\n",
    "plt.ylabel('True Positive Rate')\n",
    "plt.title('Receiver operating characteristic')\n",
    "plt.legend(loc=\"lower right\")\n",
    "plt.show()"
   ]
  },
  {
   "cell_type": "code",
   "execution_count": 17,
   "metadata": {},
   "outputs": [
    {
     "name": "stdout",
     "output_type": "stream",
     "text": [
      "\n",
      "Confusion matrix of Logistic Regression model\n",
      "\n",
      "     pred_neg  pred_pos\n",
      "neg      2189        19\n",
      "pos       178         9\n",
      "\n",
      "Sensitivity:  0.0481\n",
      "Specificity:  0.9914\n"
     ]
    }
   ],
   "source": [
    "from sklearn.metrics import classification_report, confusion_matrix\n",
    "conf_mat_lm = pd.DataFrame(confusion_matrix(y_test, y_pred_lm),columns=['pred_neg', 'pred_pos'], index=['neg', 'pos'])\n",
    "print('\\nConfusion matrix of Logistic Regression model\\n')\n",
    "print(conf_mat_lm)\n",
    "print('\\nSensitivity: ', round(conf_mat_lm.pred_pos[1]/(conf_mat_lm.pred_neg[1]+conf_mat_lm.pred_pos[1]),4))\n",
    "print('Specificity: ', round(conf_mat_lm.pred_neg[0]/(conf_mat_lm.pred_neg[0]+conf_mat_lm.pred_pos[0]),4))"
   ]
  },
  {
   "cell_type": "code",
   "execution_count": 18,
   "metadata": {},
   "outputs": [],
   "source": [
    "from sklearn.metrics import roc_auc_score, precision_recall_curve, auc, make_scorer, recall_score, accuracy_score, precision_score, confusion_matrix\n",
    "from sklearn.model_selection import GridSearchCV, StratifiedKFold\n",
    "from sklearn.ensemble import RandomForestClassifier\n",
    "\n",
    "clf = RandomForestClassifier(n_jobs=-1)\n",
    "\n",
    "param_grid = {\n",
    "    'n_estimators' : [14,16,18],\n",
    "    'max_depth': [240,260,280],\n",
    "    'max_features': [14,16,18]\n",
    "}\n",
    "\n",
    "scorers = {\n",
    "    'precision_score': make_scorer(precision_score),\n",
    "    'recall_score': make_scorer(recall_score),\n",
    "    'accuracy_score': make_scorer(accuracy_score),\n",
    "    'roc_auc_score': make_scorer(roc_auc_score)\n",
    "}"
   ]
  },
  {
   "cell_type": "code",
   "execution_count": 19,
   "metadata": {},
   "outputs": [],
   "source": [
    "def grid_search_wrapper(refit_score='roc_auc_score'):\n",
    "    \"\"\"\n",
    "    fits a GridSearchCV classifier using refit_score for optimization\n",
    "    prints classifier performance metrics\n",
    "    \"\"\"\n",
    "    grid_search = GridSearchCV(clf, param_grid, scoring=scorers, refit=refit_score,\n",
    "                           cv=5, return_train_score=True, n_jobs=-1)\n",
    "    grid_search.fit(X_train, y_train)\n",
    "\n",
    "    # make the predictions\n",
    "    y_pred = grid_search.predict(X_test.values)\n",
    "    \n",
    "    \n",
    "    filtered = X_test\n",
    "    if 'y_pred' not in filtered:\n",
    "        filtered.insert(0,'y_pred',y_pred)\n",
    "        filtered.insert(0,'y_test',y_test)\n",
    "    filtered = filtered.loc[(df.RIDAGEYR >= 20)]\n",
    "\n",
    "    print('Best params for {}'.format(refit_score))\n",
    "    print(grid_search.best_params_)\n",
    "\n",
    "    # confusion matrix on the test data.\n",
    "    print('\\nConfusion matrix of Random Forest optimized for {} on the test data:'.format(refit_score))\n",
    "    conf_mat = pd.DataFrame(confusion_matrix(filtered.y_test, filtered.y_pred),columns=['pred_neg', 'pred_pos'], index=['neg', 'pos'])\n",
    "    print(conf_mat)\n",
    "    print('\\nSensitivity: ', round(conf_mat.pred_pos[1]/(conf_mat.pred_neg[1]+conf_mat.pred_pos[1]),4))\n",
    "    print('Sensitivity / rate of occurence in sample: ', round((conf_mat.pred_pos[1]/(conf_mat.pred_neg[1]+conf_mat.pred_pos[1]))/ROO,4))\n",
    "    print('\\nSpecificity: ', round(conf_mat.pred_neg[0]/(conf_mat.pred_neg[0]+conf_mat.pred_pos[0]),4))\n",
    "    return grid_search"
   ]
  },
  {
   "cell_type": "code",
   "execution_count": 20,
   "metadata": {},
   "outputs": [
    {
     "name": "stdout",
     "output_type": "stream",
     "text": [
      "Best params for roc_auc_score\n",
      "{'max_depth': 260, 'max_features': 16, 'n_estimators': 18}\n",
      "\n",
      "Confusion matrix of Random Forest optimized for roc_auc_score on the test data:\n",
      "     pred_neg  pred_pos\n",
      "neg      1124        58\n",
      "pos       159        25\n",
      "\n",
      "Sensitivity:  0.1359\n",
      "Sensitivity / rate of occurence in sample:  1.7658\n",
      "\n",
      "Specificity:  0.9509\n"
     ]
    }
   ],
   "source": [
    "grid_search_clf = grid_search_wrapper(refit_score='roc_auc_score')"
   ]
  },
  {
   "cell_type": "code",
   "execution_count": null,
   "metadata": {},
   "outputs": [],
   "source": []
  }
 ],
 "metadata": {
  "kernelspec": {
   "display_name": "Python 3",
   "language": "python",
   "name": "python3"
  },
  "language_info": {
   "codemirror_mode": {
    "name": "ipython",
    "version": 3
   },
   "file_extension": ".py",
   "mimetype": "text/x-python",
   "name": "python",
   "nbconvert_exporter": "python",
   "pygments_lexer": "ipython3",
   "version": "3.8.3"
  }
 },
 "nbformat": 4,
 "nbformat_minor": 4
}
