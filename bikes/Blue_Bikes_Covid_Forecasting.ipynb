{
 "cells": [
  {
   "cell_type": "code",
   "execution_count": 1,
   "metadata": {},
   "outputs": [],
   "source": [
    "import os\n",
    "import pandas as pd\n",
    "import datetime as dt\n",
    "import seaborn as sns\n",
    "import matplotlib.pyplot as plt\n",
    "import numpy as np\n",
    "import statsmodels.api as sm\n",
    "%matplotlib inline\n",
    "import warnings\n",
    "warnings.filterwarnings('ignore')"
   ]
  },
  {
   "cell_type": "code",
   "execution_count": null,
   "metadata": {},
   "outputs": [],
   "source": [
    "df = pd.read_csv('data/blue_bikes_trip_data/201701-hubway-tripdata.csv', index_col=1, parse_dates=True)\n",
    "\n",
    "path = './data/blue_bikes_trip_data/'\n",
    "for file in sorted(os.listdir(path))[1:]:\n",
    "    df_new = pd.read_csv(path+file, index_col=1, parse_dates=True)\n",
    "    frames = [df,df_new]\n",
    "    df = pd.concat(frames)\n"
   ]
  },
  {
   "cell_type": "code",
   "execution_count": null,
   "metadata": {},
   "outputs": [],
   "source": [
    "counts = df.groupby([pd.Grouper(freq='D'),'usertype']).count().reset_index().iloc[:, : 3]\n",
    "counts.columns = ['time', 'user', 'rides']\n",
    "counts = pd.pivot_table(counts,values = 'rides',index = 'time',columns='user').fillna(0)\n",
    "\n",
    "sum_col = counts[\"Customer\"] + counts[\"Subscriber\"]\n",
    "counts[\"total\"] = sum_col\n",
    "\n",
    "daily_data = counts.reset_index()\n",
    "daily_data=daily_data.drop(['Customer','Subscriber'],axis=1)\n",
    "daily_data.columns.name = None\n",
    "daily_data"
   ]
  },
  {
   "cell_type": "code",
   "execution_count": null,
   "metadata": {},
   "outputs": [],
   "source": [
    "if 'time' in daily_data.columns:\n",
    "    daily_data=daily_data.set_index('time')\n",
    "    daily_data.index = daily_data.index.date\n",
    "\n",
    "    daily_data.loc[dt.datetime.strptime('2018-03-13', '%Y-%m-%d').date()] = [0]\n",
    "    daily_data.loc[dt.datetime.strptime('2019-01-20', '%Y-%m-%d').date()] = [0]\n",
    "    \n",
    "daily_data.sort_index(inplace=True)\n",
    "daily_data.index.rename('date',inplace=True)"
   ]
  },
  {
   "cell_type": "code",
   "execution_count": null,
   "metadata": {},
   "outputs": [],
   "source": [
    "plt.figure(figsize=(13, 8))\n",
    "plt.plot(daily_data.total)\n",
    "plt.ylabel('Rides',rotation=0,size=15)\n",
    "plt.xlabel('Date',rotation=0,size=15)\n",
    "plt.tick_params(axis='x', which='major', labelsize=13)\n",
    "plt.show()"
   ]
  },
  {
   "cell_type": "code",
   "execution_count": null,
   "metadata": {},
   "outputs": [],
   "source": [
    "from statsmodels.graphics.tsaplots import plot_acf, plot_pacf"
   ]
  },
  {
   "cell_type": "code",
   "execution_count": null,
   "metadata": {},
   "outputs": [],
   "source": [
    "print(plot_acf(daily_data.total, lags=31))\n",
    "print(plot_acf(daily_data.total, lags=730))\n",
    "print(plot_pacf(daily_data.total, lags=50))"
   ]
  },
  {
   "cell_type": "code",
   "execution_count": null,
   "metadata": {},
   "outputs": [],
   "source": [
    "from darts import TimeSeries\n",
    "from darts.models import Prophet, FFT"
   ]
  },
  {
   "cell_type": "code",
   "execution_count": null,
   "metadata": {},
   "outputs": [],
   "source": [
    "series1 = TimeSeries.from_dataframe(daily_data.reset_index(), 'date', 'total')\n",
    "\n",
    "soe_date = '2020-03-11'\n",
    "daily_data_pre_soe = daily_data.iloc[:daily_data.index.get_loc(dt.datetime.strptime(soe_date, '%Y-%m-%d').date()),:]\n",
    "series2 = TimeSeries.from_dataframe(daily_data_pre_soe.reset_index(), 'date', 'total')\n",
    "\n",
    "thru_june = '2020-06-30'\n",
    "daily_data_thru_june = daily_data.iloc[:daily_data.index.get_loc(dt.datetime.strptime(thru_june, '%Y-%m-%d').date()),:]\n",
    "series3 = TimeSeries.from_dataframe(daily_data_thru_june.reset_index(), 'date', 'total')\n",
    "series4 = TimeSeries.from_dataframe(daily_data_thru_june.reset_index(), 'date', 'total')"
   ]
  },
  {
   "cell_type": "code",
   "execution_count": null,
   "metadata": {},
   "outputs": [],
   "source": [
    "series1 = TimeSeries.from_dataframe(daily_data.reset_index(), 'date', 'total')\n",
    "train1, val1 = series1.split_before(pd.Timestamp('20200101'))"
   ]
  },
  {
   "cell_type": "code",
   "execution_count": null,
   "metadata": {},
   "outputs": [],
   "source": [
    "import time"
   ]
  },
  {
   "cell_type": "code",
   "execution_count": null,
   "metadata": {},
   "outputs": [],
   "source": [
    "start_time = time.time()\n",
    "\n",
    "model_FFT1 = FFT()\n",
    "model_FFT1.fit(train1)\n",
    "prediction_FFT1 = model_FFT1.predict(len(val1))\n",
    "\n",
    "model_Prophet1 = Prophet(daily_seasonality = True)\n",
    "model_Prophet1.fit(train1)\n",
    "prediction_Prophet1 = model_Prophet1.predict(len(val1))\n",
    "\n",
    "print(\"--- %s seconds ---\" % (time.time() - start_time))"
   ]
  },
  {
   "cell_type": "code",
   "execution_count": null,
   "metadata": {},
   "outputs": [],
   "source": [
    "from darts.metrics import mape\n",
    "from darts.metrics import ope"
   ]
  },
  {
   "cell_type": "code",
   "execution_count": null,
   "metadata": {},
   "outputs": [],
   "source": [
    "plt.figure(figsize=(13, 8))\n",
    "series1.plot(label='actual')\n",
    "prediction_FFT1.plot(label='FFT, MAPE: '+str(round(mape(prediction_FFT1, series1),2))+' OPE: '+str(round(ope(prediction_FFT1, series1),2)),lw=3)\n",
    "prediction_Prophet1.plot(label='Prophet, MAPE: '+str(round(mape(prediction_Prophet1, series1),2))+' OPE: '+str(round(ope(prediction_Prophet1, series1),2)),lw=3,color='purple')\n",
    "plt.axis([dt.datetime.strptime('2019-01-01', '%Y-%m-%d').date(),dt.datetime.strptime('2020-06-30', '%Y-%m-%d').date(),0,15000])\n",
    "plt.ylabel('Rides',rotation=0,size=15)\n",
    "plt.xlabel('Date',rotation=0,size=15)\n",
    "plt.tick_params(axis='x', which='major', labelsize=13)\n",
    "plt.legend()\n",
    "plt.show()"
   ]
  },
  {
   "cell_type": "code",
   "execution_count": null,
   "metadata": {},
   "outputs": [],
   "source": [
    "soe_date = '2020-03-11'\n",
    "daily_data_pre_soe = daily_data.iloc[:daily_data.index.get_loc(dt.datetime.strptime(soe_date, '%Y-%m-%d').date()),:]\n",
    "series2 = TimeSeries.from_dataframe(daily_data_pre_soe.reset_index(), 'date', 'total')\n",
    "train2, val2 = series2.split_before(pd.Timestamp('20200101'))"
   ]
  },
  {
   "cell_type": "code",
   "execution_count": null,
   "metadata": {},
   "outputs": [],
   "source": [
    "model_FFT2 = FFT()\n",
    "model_FFT2.fit(train2)\n",
    "prediction_FFT2 = model_FFT2.predict(len(val2))\n",
    "\n",
    "model_Prophet2 = Prophet(daily_seasonality=True)\n",
    "model_Prophet2.fit(train2)\n",
    "prediction_Prophet2 = model_Prophet2.predict(len(val2))"
   ]
  },
  {
   "cell_type": "code",
   "execution_count": null,
   "metadata": {},
   "outputs": [],
   "source": [
    "plt.figure(figsize=(13, 8))\n",
    "series2.plot(label='actual')\n",
    "prediction_FFT2.plot(label='\\n\\nFFT \\nMAPE: '+str(round(mape(prediction_FFT2, series2),2))+'\\nOPE: '+str(round(ope(prediction_FFT2, series2),2)),lw=3)\n",
    "prediction_Prophet2.plot(label='\\n\\nProphet, \\nMAPE: '+str(round(mape(prediction_Prophet2, series2),2))+'\\nOPE: '+str(round(ope(prediction_Prophet2, series2),2)),lw=3,color='purple')\n",
    "plt.axis([dt.datetime.strptime('2019-10-01', '%Y-%m-%d').date(),dt.datetime.strptime('2020-03-10', '%Y-%m-%d').date(),0,13000])\n",
    "plt.ylabel('Rides',rotation=0,size=15)\n",
    "plt.xlabel('Date',rotation=0,size=15)\n",
    "plt.tick_params(axis='x', which='major', labelsize=13)\n",
    "plt.legend()\n",
    "plt.show()"
   ]
  },
  {
   "cell_type": "code",
   "execution_count": null,
   "metadata": {},
   "outputs": [],
   "source": [
    "thru_june = '2020-06-30'\n",
    "daily_data_thru_june = daily_data.iloc[:daily_data.index.get_loc(dt.datetime.strptime(thru_june, '%Y-%m-%d').date()),:]\n",
    "series3 = TimeSeries.from_dataframe(daily_data_thru_june.reset_index(), 'date', 'total')\n",
    "train3, val3 = series3.split_before(pd.Timestamp('20200501'))"
   ]
  },
  {
   "cell_type": "code",
   "execution_count": null,
   "metadata": {},
   "outputs": [],
   "source": [
    "model_FFT3 = FFT()\n",
    "model_FFT3.fit(train3)\n",
    "prediction_FFT3 = model_FFT3.predict(len(val3))\n",
    "\n",
    "model_Prophet3 = Prophet(daily_seasonality=True)\n",
    "model_Prophet3.fit(train3)\n",
    "prediction_Prophet3 = model_Prophet3.predict(len(val3))"
   ]
  },
  {
   "cell_type": "code",
   "execution_count": null,
   "metadata": {},
   "outputs": [],
   "source": [
    "plt.figure(figsize=(13, 8))\n",
    "series3.plot(label='actual')\n",
    "prediction_FFT3.plot(label='\\n\\nFFT \\nMAPE: '+str(round(mape(prediction_FFT3, series3),2))+'\\nOPE: '+str(round(ope(prediction_FFT3, series3),2)),lw=3)\n",
    "prediction_Prophet3.plot(label='\\n\\nProphet \\nMAPE: '+str(round(mape(prediction_Prophet3, series3),2))+'\\nOPE: '+str(round(ope(prediction_Prophet3, series3),2)),lw=3,color='purple')\n",
    "plt.axis([dt.datetime.strptime('2020-01-01', '%Y-%m-%d').date(),dt.datetime.strptime('2020-06-30', '%Y-%m-%d').date(),0,10000])\n",
    "plt.ylabel('Rides',rotation=0,size=15)\n",
    "plt.xlabel('Date',rotation=0,size=15)\n",
    "plt.tick_params(axis='x', which='major', labelsize=12)\n",
    "plt.legend()\n",
    "plt.show()"
   ]
  },
  {
   "cell_type": "code",
   "execution_count": null,
   "metadata": {},
   "outputs": [],
   "source": [
    "series4 = TimeSeries.from_dataframe(daily_data_thru_june.reset_index(), 'date', 'total')\n",
    "train4, val4 = series4.split_before(pd.Timestamp('20200601'))"
   ]
  },
  {
   "cell_type": "code",
   "execution_count": null,
   "metadata": {},
   "outputs": [],
   "source": [
    "model_FFT4 = FFT()\n",
    "model_FFT4.fit(train4)\n",
    "prediction_FFT4 = model_FFT4.predict(len(val4))\n",
    "\n",
    "model_Prophet4 = Prophet(changepoints=['2020-03-23'],daily_seasonality=True)\n",
    "model_Prophet4.fit(train4)\n",
    "prediction_Prophet4 = model_Prophet4.predict(len(val4))"
   ]
  },
  {
   "cell_type": "code",
   "execution_count": null,
   "metadata": {},
   "outputs": [],
   "source": [
    "plt.figure(figsize=(13, 8))\n",
    "series4.plot(label='actual')\n",
    "prediction_FFT4.plot(label='\\n\\nFFT \\nMAPE: '+str(round(mape(prediction_FFT4, series4),2))+'\\nOPE: '+str(round(ope(prediction_FFT4, series4),2)),lw=3)\n",
    "prediction_Prophet4.plot(label='\\n\\nProphet \\nMAPE: '+str(round(mape(prediction_Prophet4, series4),2))+'\\nOPE: '+str(round(ope(prediction_Prophet4, series4),2)),lw=3,color='purple')\n",
    "plt.axis([dt.datetime.strptime('2020-03-01', '%Y-%m-%d').date(),dt.datetime.strptime('2020-06-30', '%Y-%m-%d').date(),0,10000])\n",
    "plt.ylabel('Rides',rotation=0,size=15)\n",
    "plt.xlabel('Date',rotation=0,size=15)\n",
    "plt.tick_params(axis='x', which='major', labelsize=12)\n",
    "plt.legend()\n",
    "plt.show()"
   ]
  },
  {
   "cell_type": "code",
   "execution_count": null,
   "metadata": {},
   "outputs": [],
   "source": [
    "train5 = series4"
   ]
  },
  {
   "cell_type": "code",
   "execution_count": null,
   "metadata": {},
   "outputs": [],
   "source": [
    "model_FFT5 = FFT()\n",
    "model_FFT5.fit(train5)\n",
    "prediction_FFT5 = model_FFT5.predict(30)\n",
    "\n",
    "model_Prophet5 = Prophet(changepoints=['2020-03-23'],daily_seasonality=True)\n",
    "model_Prophet5.fit(train5)\n",
    "prediction_Prophet5 = model_Prophet5.predict(30)"
   ]
  },
  {
   "cell_type": "code",
   "execution_count": null,
   "metadata": {},
   "outputs": [],
   "source": [
    "plt.figure(figsize=(13, 8))\n",
    "series4.plot(label='historical')\n",
    "prediction_FFT5.plot(label='FFT',lw=3)\n",
    "prediction_Prophet5.plot(label='Prophet',lw=3,color='purple')\n",
    "plt.axis([dt.datetime.strptime('2020-05-01', '%Y-%m-%d').date(),dt.datetime.strptime('2020-07-07', '%Y-%m-%d').date(),0,10000])\n",
    "plt.ylabel('Rides',rotation=0,size=15)\n",
    "plt.xlabel('Date',rotation=0,size=15)\n",
    "plt.tick_params(axis='x', which='major', labelsize=12)\n",
    "plt.legend()\n",
    "plt.show()"
   ]
  },
  {
   "cell_type": "code",
   "execution_count": null,
   "metadata": {},
   "outputs": [],
   "source": []
  }
 ],
 "metadata": {
  "kernelspec": {
   "display_name": "Python 3",
   "language": "python",
   "name": "python3"
  },
  "language_info": {
   "codemirror_mode": {
    "name": "ipython",
    "version": 3
   },
   "file_extension": ".py",
   "mimetype": "text/x-python",
   "name": "python",
   "nbconvert_exporter": "python",
   "pygments_lexer": "ipython3",
   "version": "3.8.3"
  }
 },
 "nbformat": 4,
 "nbformat_minor": 4
}
